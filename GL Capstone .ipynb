{
 "cells": [
  {
   "cell_type": "code",
   "execution_count": 647,
   "id": "fcd35377",
   "metadata": {},
   "outputs": [],
   "source": [
    "import numpy as np\n",
    "import pandas as pd\n",
    "import seaborn as sns\n",
    "import matplotlib.pyplot as plt\n",
    "\n",
    "import warnings\n",
    "warnings.filterwarnings('ignore')"
   ]
  },
  {
   "cell_type": "code",
   "execution_count": 648,
   "id": "e44dad20",
   "metadata": {},
   "outputs": [
    {
     "data": {
      "text/html": [
       "<div>\n",
       "<style scoped>\n",
       "    .dataframe tbody tr th:only-of-type {\n",
       "        vertical-align: middle;\n",
       "    }\n",
       "\n",
       "    .dataframe tbody tr th {\n",
       "        vertical-align: top;\n",
       "    }\n",
       "\n",
       "    .dataframe thead th {\n",
       "        text-align: right;\n",
       "    }\n",
       "</style>\n",
       "<table border=\"1\" class=\"dataframe\">\n",
       "  <thead>\n",
       "    <tr style=\"text-align: right;\">\n",
       "      <th></th>\n",
       "      <th>year</th>\n",
       "      <th>make</th>\n",
       "      <th>model</th>\n",
       "      <th>trim</th>\n",
       "      <th>body</th>\n",
       "      <th>transmission</th>\n",
       "      <th>vin</th>\n",
       "      <th>state</th>\n",
       "      <th>condition</th>\n",
       "      <th>odometer</th>\n",
       "      <th>color</th>\n",
       "      <th>interior</th>\n",
       "      <th>seller</th>\n",
       "      <th>mmr</th>\n",
       "      <th>sellingprice</th>\n",
       "      <th>saledate</th>\n",
       "    </tr>\n",
       "  </thead>\n",
       "  <tbody>\n",
       "    <tr>\n",
       "      <th>0</th>\n",
       "      <td>2015</td>\n",
       "      <td>Kia</td>\n",
       "      <td>Sorento</td>\n",
       "      <td>LX</td>\n",
       "      <td>SUV</td>\n",
       "      <td>automatic</td>\n",
       "      <td>5xyktca69fg566472</td>\n",
       "      <td>ca</td>\n",
       "      <td>5.0</td>\n",
       "      <td>16639.0</td>\n",
       "      <td>white</td>\n",
       "      <td>black</td>\n",
       "      <td>kia motors america  inc</td>\n",
       "      <td>20500.0</td>\n",
       "      <td>21500.0</td>\n",
       "      <td>Tue Dec 16 2014 12:30:00 GMT-0800 (PST)</td>\n",
       "    </tr>\n",
       "    <tr>\n",
       "      <th>1</th>\n",
       "      <td>2015</td>\n",
       "      <td>Kia</td>\n",
       "      <td>Sorento</td>\n",
       "      <td>LX</td>\n",
       "      <td>SUV</td>\n",
       "      <td>automatic</td>\n",
       "      <td>5xyktca69fg561319</td>\n",
       "      <td>ca</td>\n",
       "      <td>5.0</td>\n",
       "      <td>9393.0</td>\n",
       "      <td>white</td>\n",
       "      <td>beige</td>\n",
       "      <td>kia motors america  inc</td>\n",
       "      <td>20800.0</td>\n",
       "      <td>21500.0</td>\n",
       "      <td>Tue Dec 16 2014 12:30:00 GMT-0800 (PST)</td>\n",
       "    </tr>\n",
       "    <tr>\n",
       "      <th>2</th>\n",
       "      <td>2014</td>\n",
       "      <td>BMW</td>\n",
       "      <td>3 Series</td>\n",
       "      <td>328i SULEV</td>\n",
       "      <td>Sedan</td>\n",
       "      <td>automatic</td>\n",
       "      <td>wba3c1c51ek116351</td>\n",
       "      <td>ca</td>\n",
       "      <td>45.0</td>\n",
       "      <td>1331.0</td>\n",
       "      <td>gray</td>\n",
       "      <td>black</td>\n",
       "      <td>financial services remarketing (lease)</td>\n",
       "      <td>31900.0</td>\n",
       "      <td>30000.0</td>\n",
       "      <td>Thu Jan 15 2015 04:30:00 GMT-0800 (PST)</td>\n",
       "    </tr>\n",
       "    <tr>\n",
       "      <th>3</th>\n",
       "      <td>2015</td>\n",
       "      <td>Volvo</td>\n",
       "      <td>S60</td>\n",
       "      <td>T5</td>\n",
       "      <td>Sedan</td>\n",
       "      <td>automatic</td>\n",
       "      <td>yv1612tb4f1310987</td>\n",
       "      <td>ca</td>\n",
       "      <td>41.0</td>\n",
       "      <td>14282.0</td>\n",
       "      <td>white</td>\n",
       "      <td>black</td>\n",
       "      <td>volvo na rep/world omni</td>\n",
       "      <td>27500.0</td>\n",
       "      <td>27750.0</td>\n",
       "      <td>Thu Jan 29 2015 04:30:00 GMT-0800 (PST)</td>\n",
       "    </tr>\n",
       "    <tr>\n",
       "      <th>4</th>\n",
       "      <td>2014</td>\n",
       "      <td>BMW</td>\n",
       "      <td>6 Series Gran Coupe</td>\n",
       "      <td>650i</td>\n",
       "      <td>Sedan</td>\n",
       "      <td>automatic</td>\n",
       "      <td>wba6b2c57ed129731</td>\n",
       "      <td>ca</td>\n",
       "      <td>43.0</td>\n",
       "      <td>2641.0</td>\n",
       "      <td>gray</td>\n",
       "      <td>black</td>\n",
       "      <td>financial services remarketing (lease)</td>\n",
       "      <td>66000.0</td>\n",
       "      <td>67000.0</td>\n",
       "      <td>Thu Dec 18 2014 12:30:00 GMT-0800 (PST)</td>\n",
       "    </tr>\n",
       "  </tbody>\n",
       "</table>\n",
       "</div>"
      ],
      "text/plain": [
       "   year   make                model        trim   body transmission  \\\n",
       "0  2015    Kia              Sorento          LX    SUV    automatic   \n",
       "1  2015    Kia              Sorento          LX    SUV    automatic   \n",
       "2  2014    BMW             3 Series  328i SULEV  Sedan    automatic   \n",
       "3  2015  Volvo                  S60          T5  Sedan    automatic   \n",
       "4  2014    BMW  6 Series Gran Coupe        650i  Sedan    automatic   \n",
       "\n",
       "                 vin state  condition  odometer  color interior  \\\n",
       "0  5xyktca69fg566472    ca        5.0   16639.0  white    black   \n",
       "1  5xyktca69fg561319    ca        5.0    9393.0  white    beige   \n",
       "2  wba3c1c51ek116351    ca       45.0    1331.0   gray    black   \n",
       "3  yv1612tb4f1310987    ca       41.0   14282.0  white    black   \n",
       "4  wba6b2c57ed129731    ca       43.0    2641.0   gray    black   \n",
       "\n",
       "                                   seller      mmr  sellingprice  \\\n",
       "0                 kia motors america  inc  20500.0       21500.0   \n",
       "1                 kia motors america  inc  20800.0       21500.0   \n",
       "2  financial services remarketing (lease)  31900.0       30000.0   \n",
       "3                 volvo na rep/world omni  27500.0       27750.0   \n",
       "4  financial services remarketing (lease)  66000.0       67000.0   \n",
       "\n",
       "                                  saledate  \n",
       "0  Tue Dec 16 2014 12:30:00 GMT-0800 (PST)  \n",
       "1  Tue Dec 16 2014 12:30:00 GMT-0800 (PST)  \n",
       "2  Thu Jan 15 2015 04:30:00 GMT-0800 (PST)  \n",
       "3  Thu Jan 29 2015 04:30:00 GMT-0800 (PST)  \n",
       "4  Thu Dec 18 2014 12:30:00 GMT-0800 (PST)  "
      ]
     },
     "execution_count": 648,
     "metadata": {},
     "output_type": "execute_result"
    }
   ],
   "source": [
    "data = pd.read_csv(\"car_prices.csv\")\n",
    "data.head()"
   ]
  },
  {
   "cell_type": "code",
   "execution_count": 649,
   "id": "8db89bfe",
   "metadata": {},
   "outputs": [
    {
     "name": "stdout",
     "output_type": "stream",
     "text": [
      "<class 'pandas.core.frame.DataFrame'>\n",
      "RangeIndex: 558837 entries, 0 to 558836\n",
      "Data columns (total 16 columns):\n",
      " #   Column        Non-Null Count   Dtype  \n",
      "---  ------        --------------   -----  \n",
      " 0   year          558837 non-null  int64  \n",
      " 1   make          548536 non-null  object \n",
      " 2   model         548438 non-null  object \n",
      " 3   trim          548186 non-null  object \n",
      " 4   body          545642 non-null  object \n",
      " 5   transmission  493485 non-null  object \n",
      " 6   vin           558833 non-null  object \n",
      " 7   state         558837 non-null  object \n",
      " 8   condition     547017 non-null  float64\n",
      " 9   odometer      558743 non-null  float64\n",
      " 10  color         558088 non-null  object \n",
      " 11  interior      558088 non-null  object \n",
      " 12  seller        558837 non-null  object \n",
      " 13  mmr           558799 non-null  float64\n",
      " 14  sellingprice  558825 non-null  float64\n",
      " 15  saledate      558825 non-null  object \n",
      "dtypes: float64(4), int64(1), object(11)\n",
      "memory usage: 68.2+ MB\n"
     ]
    }
   ],
   "source": [
    "data.info()"
   ]
  },
  {
   "cell_type": "code",
   "execution_count": 650,
   "id": "1d4b7c63",
   "metadata": {},
   "outputs": [],
   "source": [
    "# Random 50% sample\n",
    "df = data.sample(frac=0.5, random_state=42)\n"
   ]
  },
  {
   "cell_type": "code",
   "execution_count": 651,
   "id": "8358c63a",
   "metadata": {},
   "outputs": [
    {
     "data": {
      "text/html": [
       "<div>\n",
       "<style scoped>\n",
       "    .dataframe tbody tr th:only-of-type {\n",
       "        vertical-align: middle;\n",
       "    }\n",
       "\n",
       "    .dataframe tbody tr th {\n",
       "        vertical-align: top;\n",
       "    }\n",
       "\n",
       "    .dataframe thead th {\n",
       "        text-align: right;\n",
       "    }\n",
       "</style>\n",
       "<table border=\"1\" class=\"dataframe\">\n",
       "  <thead>\n",
       "    <tr style=\"text-align: right;\">\n",
       "      <th></th>\n",
       "      <th>year</th>\n",
       "      <th>make</th>\n",
       "      <th>model</th>\n",
       "      <th>trim</th>\n",
       "      <th>body</th>\n",
       "      <th>transmission</th>\n",
       "      <th>vin</th>\n",
       "      <th>state</th>\n",
       "      <th>condition</th>\n",
       "      <th>odometer</th>\n",
       "      <th>color</th>\n",
       "      <th>interior</th>\n",
       "      <th>seller</th>\n",
       "      <th>mmr</th>\n",
       "      <th>sellingprice</th>\n",
       "      <th>saledate</th>\n",
       "    </tr>\n",
       "  </thead>\n",
       "  <tbody>\n",
       "    <tr>\n",
       "      <th>311497</th>\n",
       "      <td>2014</td>\n",
       "      <td>Chevrolet</td>\n",
       "      <td>Impala Limited</td>\n",
       "      <td>LT Fleet</td>\n",
       "      <td>Sedan</td>\n",
       "      <td>automatic</td>\n",
       "      <td>2g1wb5e37e1112559</td>\n",
       "      <td>fl</td>\n",
       "      <td>4.0</td>\n",
       "      <td>21507.0</td>\n",
       "      <td>white</td>\n",
       "      <td>black</td>\n",
       "      <td>gm remarketing</td>\n",
       "      <td>13450.0</td>\n",
       "      <td>13800.0</td>\n",
       "      <td>Mon Feb 23 2015 05:00:00 GMT-0800 (PST)</td>\n",
       "    </tr>\n",
       "    <tr>\n",
       "      <th>171592</th>\n",
       "      <td>2003</td>\n",
       "      <td>Dodge</td>\n",
       "      <td>Ram Pickup 1500</td>\n",
       "      <td>SLT</td>\n",
       "      <td>Quad Cab</td>\n",
       "      <td>NaN</td>\n",
       "      <td>1d7ha18n13s152972</td>\n",
       "      <td>mo</td>\n",
       "      <td>31.0</td>\n",
       "      <td>79712.0</td>\n",
       "      <td>—</td>\n",
       "      <td>black</td>\n",
       "      <td>tdaf remarketing</td>\n",
       "      <td>6025.0</td>\n",
       "      <td>6300.0</td>\n",
       "      <td>Tue Jan 20 2015 02:30:00 GMT-0800 (PST)</td>\n",
       "    </tr>\n",
       "    <tr>\n",
       "      <th>55288</th>\n",
       "      <td>2007</td>\n",
       "      <td>Pontiac</td>\n",
       "      <td>G6</td>\n",
       "      <td>GT</td>\n",
       "      <td>Convertible</td>\n",
       "      <td>automatic</td>\n",
       "      <td>1g2zh361474252178</td>\n",
       "      <td>nj</td>\n",
       "      <td>34.0</td>\n",
       "      <td>65698.0</td>\n",
       "      <td>red</td>\n",
       "      <td>black</td>\n",
       "      <td>car authority inc</td>\n",
       "      <td>7375.0</td>\n",
       "      <td>8000.0</td>\n",
       "      <td>Wed Jan 14 2015 01:30:00 GMT-0800 (PST)</td>\n",
       "    </tr>\n",
       "    <tr>\n",
       "      <th>190760</th>\n",
       "      <td>2011</td>\n",
       "      <td>Toyota</td>\n",
       "      <td>Corolla</td>\n",
       "      <td>LE</td>\n",
       "      <td>Sedan</td>\n",
       "      <td>automatic</td>\n",
       "      <td>jtdbu4eexb9167571</td>\n",
       "      <td>fl</td>\n",
       "      <td>43.0</td>\n",
       "      <td>23634.0</td>\n",
       "      <td>black</td>\n",
       "      <td>beige</td>\n",
       "      <td>world omni financial corporation</td>\n",
       "      <td>10800.0</td>\n",
       "      <td>11400.0</td>\n",
       "      <td>Tue Jan 27 2015 01:30:00 GMT-0800 (PST)</td>\n",
       "    </tr>\n",
       "    <tr>\n",
       "      <th>180999</th>\n",
       "      <td>2012</td>\n",
       "      <td>Lexus</td>\n",
       "      <td>ES 350</td>\n",
       "      <td>Base</td>\n",
       "      <td>Sedan</td>\n",
       "      <td>NaN</td>\n",
       "      <td>jthbk1eg6c2495519</td>\n",
       "      <td>pa</td>\n",
       "      <td>35.0</td>\n",
       "      <td>26483.0</td>\n",
       "      <td>black</td>\n",
       "      <td>brown</td>\n",
       "      <td>meridian remarketing</td>\n",
       "      <td>22500.0</td>\n",
       "      <td>23300.0</td>\n",
       "      <td>Fri Jan 30 2015 01:00:00 GMT-0800 (PST)</td>\n",
       "    </tr>\n",
       "  </tbody>\n",
       "</table>\n",
       "</div>"
      ],
      "text/plain": [
       "        year       make            model      trim         body transmission  \\\n",
       "311497  2014  Chevrolet   Impala Limited  LT Fleet        Sedan    automatic   \n",
       "171592  2003      Dodge  Ram Pickup 1500       SLT     Quad Cab          NaN   \n",
       "55288   2007    Pontiac               G6        GT  Convertible    automatic   \n",
       "190760  2011     Toyota          Corolla        LE        Sedan    automatic   \n",
       "180999  2012      Lexus           ES 350      Base        Sedan          NaN   \n",
       "\n",
       "                      vin state  condition  odometer  color interior  \\\n",
       "311497  2g1wb5e37e1112559    fl        4.0   21507.0  white    black   \n",
       "171592  1d7ha18n13s152972    mo       31.0   79712.0      —    black   \n",
       "55288   1g2zh361474252178    nj       34.0   65698.0    red    black   \n",
       "190760  jtdbu4eexb9167571    fl       43.0   23634.0  black    beige   \n",
       "180999  jthbk1eg6c2495519    pa       35.0   26483.0  black    brown   \n",
       "\n",
       "                                  seller      mmr  sellingprice  \\\n",
       "311497                    gm remarketing  13450.0       13800.0   \n",
       "171592                  tdaf remarketing   6025.0        6300.0   \n",
       "55288                  car authority inc   7375.0        8000.0   \n",
       "190760  world omni financial corporation  10800.0       11400.0   \n",
       "180999              meridian remarketing  22500.0       23300.0   \n",
       "\n",
       "                                       saledate  \n",
       "311497  Mon Feb 23 2015 05:00:00 GMT-0800 (PST)  \n",
       "171592  Tue Jan 20 2015 02:30:00 GMT-0800 (PST)  \n",
       "55288   Wed Jan 14 2015 01:30:00 GMT-0800 (PST)  \n",
       "190760  Tue Jan 27 2015 01:30:00 GMT-0800 (PST)  \n",
       "180999  Fri Jan 30 2015 01:00:00 GMT-0800 (PST)  "
      ]
     },
     "execution_count": 651,
     "metadata": {},
     "output_type": "execute_result"
    }
   ],
   "source": [
    "df.head()"
   ]
  },
  {
   "cell_type": "code",
   "execution_count": 652,
   "id": "87e44baf",
   "metadata": {},
   "outputs": [
    {
     "name": "stdout",
     "output_type": "stream",
     "text": [
      "<class 'pandas.core.frame.DataFrame'>\n",
      "Index: 279418 entries, 311497 to 303861\n",
      "Data columns (total 16 columns):\n",
      " #   Column        Non-Null Count   Dtype  \n",
      "---  ------        --------------   -----  \n",
      " 0   year          279418 non-null  int64  \n",
      " 1   make          274250 non-null  object \n",
      " 2   model         274205 non-null  object \n",
      " 3   trim          274082 non-null  object \n",
      " 4   body          272818 non-null  object \n",
      " 5   transmission  246610 non-null  object \n",
      " 6   vin           279418 non-null  object \n",
      " 7   state         279418 non-null  object \n",
      " 8   condition     273555 non-null  float64\n",
      " 9   odometer      279374 non-null  float64\n",
      " 10  color         279028 non-null  object \n",
      " 11  interior      279028 non-null  object \n",
      " 12  seller        279418 non-null  object \n",
      " 13  mmr           279402 non-null  float64\n",
      " 14  sellingprice  279414 non-null  float64\n",
      " 15  saledate      279414 non-null  object \n",
      "dtypes: float64(4), int64(1), object(11)\n",
      "memory usage: 36.2+ MB\n"
     ]
    }
   ],
   "source": [
    "df.info()"
   ]
  },
  {
   "cell_type": "code",
   "execution_count": 653,
   "id": "d7fc13a9",
   "metadata": {},
   "outputs": [],
   "source": [
    "import datetime as dt"
   ]
  },
  {
   "cell_type": "code",
   "execution_count": 654,
   "id": "fd8e4e51",
   "metadata": {},
   "outputs": [],
   "source": [
    "# df['year'] = pd.to_datetime(df['year'].astype(str), format='%Y')\n"
   ]
  },
  {
   "cell_type": "code",
   "execution_count": 655,
   "id": "7467ab56",
   "metadata": {},
   "outputs": [
    {
     "name": "stdout",
     "output_type": "stream",
     "text": [
      "        year        make    model                    trim         body  \\\n",
      "453794  2015  Volkswagen    Jetta  SE PZEV w/Connectivity  Navitgation   \n",
      "444501  2015  Volkswagen    Jetta  SE PZEV w/Connectivity  Navitgation   \n",
      "497008  2015  Volkswagen    Jetta  SE PZEV w/Connectivity  Navitgation   \n",
      "548784  2015  Volkswagen    Jetta  SE PZEV w/Connectivity  Navitgation   \n",
      "501455  2015  Volkswagen    Jetta  SE PZEV w/Connectivity  Navitgation   \n",
      "434424  2015  Volkswagen    Jetta  SE PZEV w/Connectivity  Navitgation   \n",
      "408161  2015  Volkswagen    Jetta  SE PZEV w/Connectivity  Navitgation   \n",
      "529013  2015  Volkswagen    Jetta  SE PZEV w/Connectivity  Navitgation   \n",
      "457035  2014     Hyundai  Elantra                      SE        Sedan   \n",
      "543129  2014     Hyundai   Accent                     GLS        sedan   \n",
      "520461  2015  Volkswagen    Jetta  SE PZEV w/Connectivity  Navitgation   \n",
      "406524  2013    Chrysler      300                    Base        Sedan   \n",
      "427040  2015  Volkswagen    Jetta  SE PZEV w/Connectivity  Navitgation   \n",
      "492484  2015  Volkswagen    Jetta  SE PZEV w/Connectivity  Navitgation   \n",
      "431905  2013         Kia     Soul                    Base        Wagon   \n",
      "505306  2015  Volkswagen    Jetta  SE PZEV w/Connectivity  Navitgation   \n",
      "\n",
      "       transmission                vin              state  condition  \\\n",
      "453794        Sedan          automatic  3vwd17aj5fm219943        NaN   \n",
      "444501        Sedan          automatic  3vwd17aj5fm297123        NaN   \n",
      "497008        sedan          automatic  3vwd17aj5fm273601        NaN   \n",
      "548784        sedan          automatic  3vwd17aj7fm326640        NaN   \n",
      "501455        sedan          automatic  3vwd17aj6fm231972        NaN   \n",
      "434424        Sedan          automatic  3vwd17aj7fm223475        NaN   \n",
      "408161        Sedan          automatic  3vwd17aj4fm201708        NaN   \n",
      "529013        sedan          automatic  3vwd17aj4fm236636        NaN   \n",
      "457035    automatic  5npdh4ae3eh504144                 il       19.0   \n",
      "543129    automatic  kmhct4ae0eu650738                 il       19.0   \n",
      "520461        sedan          automatic  3vwd17ajxfm315938        NaN   \n",
      "406524    automatic  2c3ccaag9dh723146                 il       27.0   \n",
      "427040        Sedan          automatic  3vwd17aj0fm227318        NaN   \n",
      "492484        sedan          automatic  3vwd17aj5fm206111        NaN   \n",
      "431905    automatic  kndjt2a5xd7765280                 va       19.0   \n",
      "505306        sedan          automatic  3vwd17aj7fm218440        NaN   \n",
      "\n",
      "        odometer   color interior   seller  mmr  sellingprice saledate  \n",
      "453794      44.0   16633   silver    black  NaN       13600.0    13600  \n",
      "444501       2.0    6388    white    black  NaN       13850.0    10700  \n",
      "497008      28.0     339    black    black  NaN       14300.0    12900  \n",
      "548784       2.0    2846     blue    black  NaN       13600.0     7500  \n",
      "501455      38.0    9837      red    black  NaN       13500.0    12900  \n",
      "434424      46.0   15719     blue    black  NaN       13650.0    13500  \n",
      "408161      46.0    4802   silver     gray  NaN       13200.0    16500  \n",
      "529013       5.0    5705        —    black  NaN       13400.0    15250  \n",
      "457035   20775.0   white        —  kfl llc  NaN           NaN      NaN  \n",
      "543129   26379.0    gray     gray  kfl llc  NaN           NaN      NaN  \n",
      "520461       1.0     721     blue     gray  NaN       14100.0     8500  \n",
      "406524   44208.0  silver    black  kfl llc  NaN           NaN      NaN  \n",
      "427040      41.0   14872     gray    black  NaN       13700.0    14300  \n",
      "492484       2.0    6864     gray    black  NaN       14000.0     9800  \n",
      "431905   29465.0  silver    black  kfl llc  NaN           NaN      NaN  \n",
      "505306      42.0   20627    white    black  NaN       13600.0    13500  \n"
     ]
    }
   ],
   "source": [
    "invalid_dates = df[~pd.to_datetime(df['saledate'], errors='coerce').notna()]\n",
    "print(invalid_dates)\n"
   ]
  },
  {
   "cell_type": "code",
   "execution_count": 656,
   "id": "bd6f9a41",
   "metadata": {},
   "outputs": [],
   "source": [
    "df['saledate'] = pd.to_datetime(df['saledate'], errors='coerce', utc=True).dt.date\n"
   ]
  },
  {
   "cell_type": "code",
   "execution_count": 657,
   "id": "5ab717da",
   "metadata": {},
   "outputs": [
    {
     "name": "stdout",
     "output_type": "stream",
     "text": [
      "<class 'pandas.core.frame.DataFrame'>\n",
      "Index: 279418 entries, 311497 to 303861\n",
      "Data columns (total 16 columns):\n",
      " #   Column        Non-Null Count   Dtype  \n",
      "---  ------        --------------   -----  \n",
      " 0   year          279418 non-null  int64  \n",
      " 1   make          274250 non-null  object \n",
      " 2   model         274205 non-null  object \n",
      " 3   trim          274082 non-null  object \n",
      " 4   body          272818 non-null  object \n",
      " 5   transmission  246610 non-null  object \n",
      " 6   vin           279418 non-null  object \n",
      " 7   state         279418 non-null  object \n",
      " 8   condition     273555 non-null  float64\n",
      " 9   odometer      279374 non-null  float64\n",
      " 10  color         279028 non-null  object \n",
      " 11  interior      279028 non-null  object \n",
      " 12  seller        279418 non-null  object \n",
      " 13  mmr           279402 non-null  float64\n",
      " 14  sellingprice  279414 non-null  float64\n",
      " 15  saledate      279402 non-null  object \n",
      "dtypes: float64(4), int64(1), object(11)\n",
      "memory usage: 36.2+ MB\n"
     ]
    }
   ],
   "source": [
    "df.info()"
   ]
  },
  {
   "cell_type": "code",
   "execution_count": 658,
   "id": "304a20bf",
   "metadata": {},
   "outputs": [
    {
     "data": {
      "text/html": [
       "<div>\n",
       "<style scoped>\n",
       "    .dataframe tbody tr th:only-of-type {\n",
       "        vertical-align: middle;\n",
       "    }\n",
       "\n",
       "    .dataframe tbody tr th {\n",
       "        vertical-align: top;\n",
       "    }\n",
       "\n",
       "    .dataframe thead th {\n",
       "        text-align: right;\n",
       "    }\n",
       "</style>\n",
       "<table border=\"1\" class=\"dataframe\">\n",
       "  <thead>\n",
       "    <tr style=\"text-align: right;\">\n",
       "      <th></th>\n",
       "      <th>year</th>\n",
       "      <th>make</th>\n",
       "      <th>model</th>\n",
       "      <th>trim</th>\n",
       "      <th>body</th>\n",
       "      <th>transmission</th>\n",
       "      <th>vin</th>\n",
       "      <th>state</th>\n",
       "      <th>condition</th>\n",
       "      <th>odometer</th>\n",
       "      <th>color</th>\n",
       "      <th>interior</th>\n",
       "      <th>seller</th>\n",
       "      <th>mmr</th>\n",
       "      <th>sellingprice</th>\n",
       "      <th>saledate</th>\n",
       "    </tr>\n",
       "  </thead>\n",
       "  <tbody>\n",
       "    <tr>\n",
       "      <th>311497</th>\n",
       "      <td>2014</td>\n",
       "      <td>Chevrolet</td>\n",
       "      <td>Impala Limited</td>\n",
       "      <td>LT Fleet</td>\n",
       "      <td>Sedan</td>\n",
       "      <td>automatic</td>\n",
       "      <td>2g1wb5e37e1112559</td>\n",
       "      <td>fl</td>\n",
       "      <td>4.0</td>\n",
       "      <td>21507.0</td>\n",
       "      <td>white</td>\n",
       "      <td>black</td>\n",
       "      <td>gm remarketing</td>\n",
       "      <td>13450.0</td>\n",
       "      <td>13800.0</td>\n",
       "      <td>2015-02-22</td>\n",
       "    </tr>\n",
       "    <tr>\n",
       "      <th>171592</th>\n",
       "      <td>2003</td>\n",
       "      <td>Dodge</td>\n",
       "      <td>Ram Pickup 1500</td>\n",
       "      <td>SLT</td>\n",
       "      <td>Quad Cab</td>\n",
       "      <td>NaN</td>\n",
       "      <td>1d7ha18n13s152972</td>\n",
       "      <td>mo</td>\n",
       "      <td>31.0</td>\n",
       "      <td>79712.0</td>\n",
       "      <td>—</td>\n",
       "      <td>black</td>\n",
       "      <td>tdaf remarketing</td>\n",
       "      <td>6025.0</td>\n",
       "      <td>6300.0</td>\n",
       "      <td>2015-01-19</td>\n",
       "    </tr>\n",
       "  </tbody>\n",
       "</table>\n",
       "</div>"
      ],
      "text/plain": [
       "        year       make            model      trim      body transmission  \\\n",
       "311497  2014  Chevrolet   Impala Limited  LT Fleet     Sedan    automatic   \n",
       "171592  2003      Dodge  Ram Pickup 1500       SLT  Quad Cab          NaN   \n",
       "\n",
       "                      vin state  condition  odometer  color interior  \\\n",
       "311497  2g1wb5e37e1112559    fl        4.0   21507.0  white    black   \n",
       "171592  1d7ha18n13s152972    mo       31.0   79712.0      —    black   \n",
       "\n",
       "                  seller      mmr  sellingprice    saledate  \n",
       "311497    gm remarketing  13450.0       13800.0  2015-02-22  \n",
       "171592  tdaf remarketing   6025.0        6300.0  2015-01-19  "
      ]
     },
     "execution_count": 658,
     "metadata": {},
     "output_type": "execute_result"
    }
   ],
   "source": [
    "df.head(2)"
   ]
  },
  {
   "cell_type": "code",
   "execution_count": 659,
   "id": "1da2b93d",
   "metadata": {},
   "outputs": [],
   "source": [
    "df['saledate'] = pd.to_datetime(df['saledate'].astype(str), format='%Y-%m-%d')"
   ]
  },
  {
   "cell_type": "code",
   "execution_count": 660,
   "id": "b55b15af",
   "metadata": {},
   "outputs": [
    {
     "name": "stdout",
     "output_type": "stream",
     "text": [
      "<class 'pandas.core.frame.DataFrame'>\n",
      "Index: 279418 entries, 311497 to 303861\n",
      "Data columns (total 16 columns):\n",
      " #   Column        Non-Null Count   Dtype         \n",
      "---  ------        --------------   -----         \n",
      " 0   year          279418 non-null  int64         \n",
      " 1   make          274250 non-null  object        \n",
      " 2   model         274205 non-null  object        \n",
      " 3   trim          274082 non-null  object        \n",
      " 4   body          272818 non-null  object        \n",
      " 5   transmission  246610 non-null  object        \n",
      " 6   vin           279418 non-null  object        \n",
      " 7   state         279418 non-null  object        \n",
      " 8   condition     273555 non-null  float64       \n",
      " 9   odometer      279374 non-null  float64       \n",
      " 10  color         279028 non-null  object        \n",
      " 11  interior      279028 non-null  object        \n",
      " 12  seller        279418 non-null  object        \n",
      " 13  mmr           279402 non-null  float64       \n",
      " 14  sellingprice  279414 non-null  float64       \n",
      " 15  saledate      279402 non-null  datetime64[ns]\n",
      "dtypes: datetime64[ns](1), float64(4), int64(1), object(10)\n",
      "memory usage: 36.2+ MB\n"
     ]
    }
   ],
   "source": [
    "df.info()"
   ]
  },
  {
   "cell_type": "code",
   "execution_count": 661,
   "id": "97de4827",
   "metadata": {},
   "outputs": [
    {
     "data": {
      "text/html": [
       "<div>\n",
       "<style scoped>\n",
       "    .dataframe tbody tr th:only-of-type {\n",
       "        vertical-align: middle;\n",
       "    }\n",
       "\n",
       "    .dataframe tbody tr th {\n",
       "        vertical-align: top;\n",
       "    }\n",
       "\n",
       "    .dataframe thead th {\n",
       "        text-align: right;\n",
       "    }\n",
       "</style>\n",
       "<table border=\"1\" class=\"dataframe\">\n",
       "  <thead>\n",
       "    <tr style=\"text-align: right;\">\n",
       "      <th></th>\n",
       "      <th>year</th>\n",
       "      <th>make</th>\n",
       "      <th>model</th>\n",
       "      <th>trim</th>\n",
       "      <th>body</th>\n",
       "      <th>transmission</th>\n",
       "      <th>vin</th>\n",
       "      <th>state</th>\n",
       "      <th>condition</th>\n",
       "      <th>odometer</th>\n",
       "      <th>color</th>\n",
       "      <th>interior</th>\n",
       "      <th>seller</th>\n",
       "      <th>mmr</th>\n",
       "      <th>sellingprice</th>\n",
       "      <th>saledate</th>\n",
       "    </tr>\n",
       "  </thead>\n",
       "  <tbody>\n",
       "    <tr>\n",
       "      <th>311497</th>\n",
       "      <td>2014</td>\n",
       "      <td>Chevrolet</td>\n",
       "      <td>Impala Limited</td>\n",
       "      <td>LT Fleet</td>\n",
       "      <td>Sedan</td>\n",
       "      <td>automatic</td>\n",
       "      <td>2g1wb5e37e1112559</td>\n",
       "      <td>fl</td>\n",
       "      <td>4.0</td>\n",
       "      <td>21507.0</td>\n",
       "      <td>white</td>\n",
       "      <td>black</td>\n",
       "      <td>gm remarketing</td>\n",
       "      <td>13450.0</td>\n",
       "      <td>13800.0</td>\n",
       "      <td>2015-02-22</td>\n",
       "    </tr>\n",
       "    <tr>\n",
       "      <th>171592</th>\n",
       "      <td>2003</td>\n",
       "      <td>Dodge</td>\n",
       "      <td>Ram Pickup 1500</td>\n",
       "      <td>SLT</td>\n",
       "      <td>Quad Cab</td>\n",
       "      <td>NaN</td>\n",
       "      <td>1d7ha18n13s152972</td>\n",
       "      <td>mo</td>\n",
       "      <td>31.0</td>\n",
       "      <td>79712.0</td>\n",
       "      <td>—</td>\n",
       "      <td>black</td>\n",
       "      <td>tdaf remarketing</td>\n",
       "      <td>6025.0</td>\n",
       "      <td>6300.0</td>\n",
       "      <td>2015-01-19</td>\n",
       "    </tr>\n",
       "  </tbody>\n",
       "</table>\n",
       "</div>"
      ],
      "text/plain": [
       "        year       make            model      trim      body transmission  \\\n",
       "311497  2014  Chevrolet   Impala Limited  LT Fleet     Sedan    automatic   \n",
       "171592  2003      Dodge  Ram Pickup 1500       SLT  Quad Cab          NaN   \n",
       "\n",
       "                      vin state  condition  odometer  color interior  \\\n",
       "311497  2g1wb5e37e1112559    fl        4.0   21507.0  white    black   \n",
       "171592  1d7ha18n13s152972    mo       31.0   79712.0      —    black   \n",
       "\n",
       "                  seller      mmr  sellingprice   saledate  \n",
       "311497    gm remarketing  13450.0       13800.0 2015-02-22  \n",
       "171592  tdaf remarketing   6025.0        6300.0 2015-01-19  "
      ]
     },
     "execution_count": 661,
     "metadata": {},
     "output_type": "execute_result"
    }
   ],
   "source": [
    "df.head(2)"
   ]
  },
  {
   "cell_type": "code",
   "execution_count": 662,
   "id": "a5224188",
   "metadata": {},
   "outputs": [
    {
     "name": "stdout",
     "output_type": "stream",
     "text": [
      "<class 'pandas.core.frame.DataFrame'>\n",
      "Index: 279418 entries, 311497 to 303861\n",
      "Data columns (total 16 columns):\n",
      " #   Column        Non-Null Count   Dtype         \n",
      "---  ------        --------------   -----         \n",
      " 0   year          279418 non-null  int64         \n",
      " 1   make          274250 non-null  object        \n",
      " 2   model         274205 non-null  object        \n",
      " 3   trim          274082 non-null  object        \n",
      " 4   body          272818 non-null  object        \n",
      " 5   transmission  246610 non-null  object        \n",
      " 6   vin           279418 non-null  object        \n",
      " 7   state         279418 non-null  object        \n",
      " 8   condition     273555 non-null  float64       \n",
      " 9   odometer      279374 non-null  float64       \n",
      " 10  color         279028 non-null  object        \n",
      " 11  interior      279028 non-null  object        \n",
      " 12  seller        279418 non-null  object        \n",
      " 13  mmr           279402 non-null  float64       \n",
      " 14  sellingprice  279414 non-null  float64       \n",
      " 15  saledate      279402 non-null  datetime64[ns]\n",
      "dtypes: datetime64[ns](1), float64(4), int64(1), object(10)\n",
      "memory usage: 36.2+ MB\n"
     ]
    }
   ],
   "source": [
    "df.info()"
   ]
  },
  {
   "cell_type": "code",
   "execution_count": 663,
   "id": "79825e46",
   "metadata": {},
   "outputs": [],
   "source": [
    "df.drop(columns=['vin'], inplace=True)"
   ]
  },
  {
   "cell_type": "code",
   "execution_count": 664,
   "id": "6a73ea2d",
   "metadata": {},
   "outputs": [],
   "source": [
    "df['saledate'] = pd.to_datetime(df['saledate'], errors='coerce', utc=True)\n",
    "\n",
    "# Extracting useful features\n",
    "df['sale_year'] = df['saledate'].dt.year\n",
    "df['sale_month'] = df['saledate'].dt.month\n",
    "df['sale_day'] = df['saledate'].dt.day\n",
    "df['sale_weekday'] = df['saledate'].dt.weekday"
   ]
  },
  {
   "cell_type": "code",
   "execution_count": 665,
   "id": "b48a3592",
   "metadata": {},
   "outputs": [],
   "source": [
    "# Dropping the original saledate column, as it will unecessarily create noise.\n",
    "df.drop(columns=['saledate'], inplace=True)"
   ]
  },
  {
   "cell_type": "code",
   "execution_count": 666,
   "id": "a9254111",
   "metadata": {},
   "outputs": [],
   "source": [
    "# Fill NaN (from NaT rows) before converting\n",
    "df['sale_year'] = df['sale_year'].fillna(0).astype(int)\n",
    "df['sale_month'] = df['sale_month'].fillna(0).astype(int)\n",
    "df['sale_day'] = df['sale_day'].fillna(0).astype(int)\n",
    "df['sale_weekday'] = df['sale_weekday'].fillna(0).astype(int)"
   ]
  },
  {
   "cell_type": "code",
   "execution_count": 667,
   "id": "91d65515",
   "metadata": {},
   "outputs": [
    {
     "name": "stdout",
     "output_type": "stream",
     "text": [
      "year\n",
      "[2014 2003 2007 2011 2012 2005 2013 2002 2008 2015 2006 2009 1998 2004\n",
      " 2010 2000 2001 1999 1996 1991 1994 1993 1995 1997 1988 1992 1989 1985\n",
      " 1987 1986 1984 1990 1983]\n",
      "\n",
      "-----------\n",
      "make\n",
      "['Chevrolet' 'Dodge' 'Pontiac' 'Toyota' 'Lexus' 'Honda' 'Ford' 'Jeep'\n",
      " 'Mercedes-Benz' 'Hyundai' 'Mercury' 'Mazda' 'Kia' 'Nissan' 'Saturn'\n",
      " 'Chrysler' 'Volvo' 'Audi' 'Infiniti' 'BMW' 'Buick' 'Volkswagen'\n",
      " 'Mitsubishi' 'Subaru' 'MINI' 'Ram' 'Lincoln' 'Suzuki' 'Isuzu' 'honda'\n",
      " 'GMC' 'Cadillac' 'Land Rover' nan 'chrysler' 'Scion' 'Acura' 'FIAT'\n",
      " 'Porsche' 'Bentley' 'mitsubishi' 'Jaguar' 'ford' 'Saab' 'lexus' 'nissan'\n",
      " 'smart' 'HUMMER' 'Oldsmobile' 'cadillac' 'dodge' 'chevrolet' 'hyundai'\n",
      " 'toyota' 'volkswagen' 'acura' 'mercedes' 'porsche' 'mercury' 'Ferrari'\n",
      " 'suzuki' 'mazda' 'land rover' 'Daewoo' 'Maserati' 'gmc' 'oldsmobile'\n",
      " 'ford truck' 'bmw' 'Rolls-Royce' 'pontiac' 'Geo' 'landrover' 'Plymouth'\n",
      " 'vw' 'subaru' 'jeep' 'buick' 'lincoln' 'audi' 'Tesla' 'Aston Martin'\n",
      " 'kia' 'Lamborghini' 'ford tk' 'Fisker' 'mazda tk' 'gmc truck' 'Lotus'\n",
      " 'plymouth' 'maserati' 'airstream' 'dot']\n",
      "\n",
      "-----------\n",
      "model\n",
      "['Impala Limited' 'Ram Pickup 1500' 'G6' 'Corolla' 'ES 350' 'Civic'\n",
      " 'Focus' 'Cruze' 'Wrangler' 'Econoline Cargo' 'Fusion' 'Dart' 'GLK-Class'\n",
      " 'Sonata' 'Durango' 'Mountaineer' 'Mazda3' 'Rio' 'Rogue' 'Aura' '200'\n",
      " 'Grand Cherokee' 'F-150' 'XC90' 'Avalon' 'S5' 'Accord' 'RX 350'\n",
      " 'Silverado 1500' 'G Sedan' 'X1' '3 Series' 'Ranger' 'Altima' 'LaCrosse'\n",
      " 'Pathfinder' 'Town and Country' 'Edge' 'CC' 'M-Class' 'Suburban' 'Pilot'\n",
      " 'Outlander Sport' 'Outback' 'Black Diamond Avalanche' 'Golf' 'Liberty'\n",
      " 'Malibu' 'Sorento' 'C-Class' 'Jetta' 'Accent' 'Cooper'\n",
      " '6 Series Gran Coupe' '7 Series' 'Escape' 'Explorer' 'A3' 'Sienna' '1500'\n",
      " 'Traverse' 'Flex' 'Impala' 'CX-9' 'S-Class' 'MKS' 'Taurus' 'Charger'\n",
      " 'Forenza' 'M35' 'Escort' 'G Coupe' 'Camry' 'A4' 'Avalanche' 'Rodeo'\n",
      " 'Enclave' 'Grand Caravan' 'Cougar' 'Sentra' 'CL-Class' 'Town Car'\n",
      " 'CLS-Class' 'Elantra' 'Journey' 'E-Class' 'odyssey' 'Fiesta' 'Eclipse'\n",
      " 'Mazda5' 'Odyssey' 'Prius' 'Versa Note' 'Leaf' 'Equinox' 'Sonata Hybrid'\n",
      " 'Sierra 1500' 'Cobalt' 'E-Series Wagon' 'Patriot' 'Santa Fe' 'LS 430'\n",
      " 'CR-V' 'Cadenza' 'DTS' 'Express Cargo' 'Soul' 'Camaro' 'Aveo'\n",
      " 'Range Rover Evoque' 'Solstice' 'Frontier' 'Tucson' nan '300' 'X5'\n",
      " 'F-350 Super Duty' 'MKX' 'Elantra GT' 'Grand Prix' 'A6' 'Terrain'\n",
      " 'Blazer' 'S60' 'TrailBlazer' 'F-250 Super Duty' 'G37' 'Corvette' 'Yukon'\n",
      " 'Maxima' 'Mariner' 'Mirage' 'pacifica' 'Mazda2' 'Captiva Sport'\n",
      " 'Veracruz' 'Versa' 'IS 250' 'CTS' 'LS' 'Eos' 'G35' 'R-Class' 'Murano'\n",
      " 'Optima' 'xD' 'Quest' 'Mustang' 'LS 460' 'Q50' '8 Series' 'Expedition'\n",
      " 'Mazda6' 'Silverado 2500HD' 'Yukon XL' 'E-Series Van' 'New Beetle'\n",
      " 'Dakota' 'Vibe' 'Camry Hybrid' 'Highlander' 'HHR' 'Passat' 'CLA-Class'\n",
      " 'Matrix' 'Q60 Convertible' 'malibu' 'Savana Cargo' 'TSX' 'EX35' 'Q7'\n",
      " 'Tiburon' 'Sedona' 'MKZ' 'S40' 'Q60 Coupe' 'LeSabre' 'Forte' 'Regal'\n",
      " 'accord' 'Silverado 3500HD' 'C-Max Hybrid' 'Sportage' 'ION'\n",
      " 'Crown Victoria' 'RAV4' 'tC' 'Challenger' 'Forester' 'Range Rover Sport'\n",
      " 'LX 570' 'FJ Cruiser' 'Elantra Touring' 'Tahoe' 'Avenger' 'S-Series'\n",
      " 'Windstar' 'XC60' 'M37' 'Volt' '1 Series' '500L' 'G20' 'Panamera' 'Sonic'\n",
      " 'Tundra' 'Lancer Evolution' 'FX35' 'ECHO' 'CTS Coupe'\n",
      " 'Continental Flying Spur' 'Spark' '4Runner' 'Caliber' '5 Series' 'Galant'\n",
      " 'Tiguan' 'Elantra Coupe' 'MDX' 'Genesis' 'galant' 'L-Series' 'Neon'\n",
      " 'Aspen' 'XJ-Series' 'Transit Connect' 'Outlook' 'Torrent' 'Commander'\n",
      " 'QX' 'XC70' 'Malibu Maxx' 'X3' 'Truck' 'Rendezvous' 'GS 350' 'Cherokee'\n",
      " 'Seville' 'Excursion' 'A8' 'Colorado' 'CX-5' 'Acadia' 'Land Cruiser'\n",
      " 'Xterra' 'Sierra 2500HD' 'Outlander' 'XTS' 'Escalade' 'Nitro' 'e350'\n",
      " 'Navigator' 'Amanti' 'Aviator' 'FR-S' 'Veloster' 'Lancer' 'SRX'\n",
      " 'Camry Solara' 'Monte Carlo' 'Grand Am' 'Impreza' 'Yaris' 'GL-Class'\n",
      " 'Verano' 'Caravan' '9-7X' 'G Convertible' 'Cooper Clubman' 'Venza'\n",
      " 'Intrepid' 'lx' 'TL' 'Lucerne' 'Grand Marquis' 'Sebring' '6 Series'\n",
      " 'Cooper Paceman' 'expeditn' 'Altima Hybrid' 'Ram Pickup 2500' 'RDX'\n",
      " '350z' 'IS 250 C' 'Envoy' 'fortwo' 'Escalade EXT' 'PT Cruiser'\n",
      " 'Entourage' 'M' 'Fusion Hybrid' 'Sequoia' 'Armada' 'Uplander' 'Titan'\n",
      " 'Insight' 'RX 450h' 'H2' 'RX 300' 'Montero' 'Magnum' 'Crossfire'\n",
      " 'Montero Sport' '2500' 'Crosstour' 'f150' 'Taurus X'\n",
      " 'Explorer Sport Trac' 'Cooper Countryman' 'Compass' 'GTO' 'CT 200h'\n",
      " 'Ram Pickup 3500' 'C-Max Energi' 'Cube' 'Cayenne' 'Silhouette' 'Prius c'\n",
      " 'DeVille' 'QX56' 'A5' '911' 'LR4' 'XJ' 'Mark LT' 'Impreza WRX' 'Cayman'\n",
      " 'Aztek' 'Silverado 1500HD' 'Focus ST' 'ranger' 'Genesis Coupe' 'H3'\n",
      " '4 Series' 'JX' 'M3' 'VUE' 'Ridgeline' 'ATS' 'Five Hundred' '500'\n",
      " 'Encore' 'GX 460' 'iQ' '9-3' 'Express' 'Q5' 'Cooper Roadster'\n",
      " 'Bonneville' 'CLK-Class' 'Tacoma' 'GS 300' 'Fleetwood' 'srx' 'ES 300'\n",
      " '5 Series Gran Turismo' 'Spectra' 'Borrego' 'Millenia' 'windstar' 'G3'\n",
      " 'RX 330' 'Astro' '300-Class' 'IS F' 'Endeavor' 'Beetle' 'S70'\n",
      " 'Econoline Wagon' 'grand' 'FX' 'GTI' 'Range Rover'\n",
      " 'Silverado 1500 Classic' 'Prius Plug-in' 'Aurora' '500-Class' 'xB'\n",
      " 'Legacy' 'Freestyle' 'Routan' 'Azera' 'Sprinter Cargo' 'MX-5 Miata'\n",
      " 'Tribute' 'XV Crosstrek' 'Freestar' 'Escalade ESV' 'S-10' 'pilot' 'X6'\n",
      " '3500' 'Sprinter' 'RSX' 'IS 300' 'Z4' 'QX60' 'Mariner Hybrid' 'SLK-Class'\n",
      " 'Rainier' 'XG350' 'Element' 'Santa Fe Sport' 'CX-7' 'TrailBlazer EXT'\n",
      " 'Eclipse Spyder' 'Explorer Sport' 'Century' 'Boxster' 'elantra' 'XF'\n",
      " 'Aerio' 'Malibu Classic' 'RL' 'caravan' 'Sable' 'Pacifica' 'GS 430' 'G5'\n",
      " 'Accord Crosstour' 'Stratus' 'Escape Hybrid' 'Z3' 'Beetle Convertible'\n",
      " 'SL-Class' 'sienna' 'V60' 'MPV' 'Park Avenue' 'Mazdaspeed3' 'QX80' 'gx'\n",
      " 'corvette' 'Tracker' 'journey' 'Tercel' 'HS 250h' 'Concorde' 'Integra'\n",
      " 'RX 400h' 'ES 300h' 'M4' 'Envoy XUV' 'STS' 'NV Cargo' 'Protege' 'TT'\n",
      " 'Juke' 'Protege5' 'routan' 'explorer' 'rl' 'Jetta SportWagen' 'Astra'\n",
      " 'IS 350' 'I35' 'SX4' 'Celica' 'MKT' 'Trooper' 'V50' 'Corvette Stingray'\n",
      " 'F-150 Heritage' 'Rondo' 'Mazdaspeed 3' 'Envoy XL' 'R8' 'c230wz' 'S-Type'\n",
      " 'Fit' 'Jimmy' 'CL' 'XLR' 'Highlander Hybrid' 'Grand Vitara' 'Zephyr'\n",
      " 'Navigator L' 'S80' 'Q45' 'Z4 M' 'Shelby GT500' 'LS 400'\n",
      " 'Continental GTC' 'Verona' '9-5' 'H2 SUT' 'Relay' 'Axiom'\n",
      " 'Silverado 2500HD Classic' '350Z' 'California' '370Z' 'Cavalier'\n",
      " 'Eighty-Eight Royale' 'M6' 'XL7' 'g3500' 'FX45' 'Canyon' 'XK-Series'\n",
      " 'Lancer Sportback' 'H3T' 'Milan' 'swift' 'Montego'\n",
      " '3 Series Gran Turismo' 'Rogue Select' 'Touareg' 'TSX Sport Wagon'\n",
      " 'MR2 Spyder' 'endeavor' 'cx-7' 'X-Type' 'Classic' 'V70' 'GX 470' 'ES 330'\n",
      " 'range' 'Viper' 'corolla' 'Transit Van' 'Leganza' 'SSR' 'Equus' 'impala'\n",
      " 'K900' 'XC' 'S7' 'Prizm' 'allroad quattro' 'allroad' 'tundra' 'ILX'\n",
      " 'Catera' 'Continental' 'GranTurismo' 'G8' 'Eldorado' 'c240s' 'Montana'\n",
      " 'stratus' 'LX 470' 'L300' 'G-Class' 'Discovery Series II' 'M6 Gran Coupe'\n",
      " 'Raider' 'durango' 'Passport' 'e250' 'A7' 'Vitara' 'Quattroporte' 'Sky'\n",
      " 'SS' 'expedition' 'S4' 'C/K 1500 Series' 'Sephia' 'Tribeca' 'XL-7' 'QX70'\n",
      " 'taurus' 'B9 Tribeca' 'sr' 'hhr' 'B-Series Pickup' 'EX' 'Monterey'\n",
      " 'silhouette' 'STS-V' 'BRZ' 'Sierra 2500HD Classic' 'Continental GT'\n",
      " 'Sunfire' '300M' 'Venture' 'S2000' 'Silverado 3500 Classic' 'M45' 'santa'\n",
      " 'Baja' 'Ascender' 'ridgelin' 'tribute' 'Villager' 'freestyle' 'C70'\n",
      " 'Freelander' 'E-350' 'venture' 'villager' 'Mazdaspeed Mazda3' 'Lumina'\n",
      " 'Yukon Hybrid' 'Eighty-Eight' '626' 'Touareg 2' '750li' 'Bravada'\n",
      " 'Cirrus' 'RS 5' 'Golf GTI' 'Alero' 'XK' 'Ghost' '9-2X' 'QX4' 'mazda5'\n",
      " 'montana' 'Golf R' '3000GT' 'LHS' 'Mustang SVT Cobra' 'GLI'\n",
      " 'Cooper Coupe' 'GT-R' 'Prius v' 'Sierra 3500HD' 'Sonoma' 'camry' '300ZX'\n",
      " 'M5' 's10' 'Reno' 'Intrigue' 'NV' 'Rabbit' 'R32' 'RS 7' 'sonic' 'sts'\n",
      " 'Silverado 3500' 'alero' 'IS 350 C' 'Avalon Hybrid' 'matrix'\n",
      " 'ActiveHybrid 5' 'LR2' 'Ram Cargo' 'Diamante' '850' 'rx8' 'C/V Cargo Van'\n",
      " 'SC 430' 'S6' 'ZDX' 'S8' 'Astro Cargo' 'Fusion Energi' 'escape' 'LR3' 'e'\n",
      " 'Accord Hybrid' 'MKC' 'F-TYPE' 'Expedition EL' 'Mazdaspeed Mazda6'\n",
      " 'colorado' '3' 'CTS-V Coupe' 'Kizashi' 'Sierra 1500 Classic'\n",
      " 'twn&country' 'forester' 'quest' 'Murano CrossCabriolet' 'patriot'\n",
      " 'rainier' 'pursuit' 'b1500' 'gr' 'Cayman S' 'RC 350' 'beetle' 'town'\n",
      " 'EuroVan' 'versa' 'C30' 'LS 600h L' 'Firebird' 'CR-Z' 'X5 M' 'envoy'\n",
      " 'uplander' 'Jetta GLI' 'RLX' 'astro' 'Roadmaster' 'wrangler' 'SC 300'\n",
      " 'C/V Tradesman' '2 Series' 'jetta' 'X6 M' 'Cabrio' 'e150'\n",
      " 'Promaster Cargo Van' 'Macan' 'F-450 Super Duty' 'Transit Wagon' 'civic'\n",
      " 'a4' 'Tahoe Limited/Z71' '200SX' 'Mark VIII' 'CTS-V' 'a6' 'Thunderbird'\n",
      " 'Q70' 'f250' 'SQ5' 'Nubira' 'G37 Coupe' 'mkt' '4 Series Gran Coupe' 'alp'\n",
      " 'magnum' 'eurovan' 'Spark EV' 'Silverado 2500' 'NV200' 'WRX'\n",
      " 'G37 Convertible' 'Jetta Hybrid' 'lr3' 'mazda3' 'passat' 'xA' 'Terraza'\n",
      " 'discovery' '328i' '1' 'police' 'Model S' 'Rodeo Sport' 'Malibu Hybrid'\n",
      " 'QX50' 'Tahoe Hybrid' 'SLS AMG' 'i-MiEV' 'DB9' 'GLA-Class' 'MKZ Hybrid'\n",
      " 'Mazdaspeed Protege' 'Ghibli' 'Contour' 'sprinter' 'V40' 'Sierra 3500'\n",
      " 'GS 450h' 'S-10 Blazer' 'CTS Wagon' '750i' 'Mystique' 'Pickup' 'rio'\n",
      " 'bronco' 'thunderbird' 'concorde' 'I30' 'tt' 'FX50' '6' 'Cutlass' 'M56'\n",
      " 'g6' 'Continental GT Speed' 'Voyager' 'yukon' 'Escalade Hybrid' 'RS 6'\n",
      " 'Phaeton' 'Yukon Denali' 'RX-8' 'NV Passenger' 'Cutlass Supreme' 'ELR'\n",
      " 'XG300' 'Le Baron' 'GS 400' 'compass' 'Gallardo' 'Breeze' 'yaris'\n",
      " 'Sierra 1500HD' 'Savana' 'ActiveHybrid 7' 'B-Series' 'Cutlass Ciera'\n",
      " 'Silverado 1500 Hybrid' 'Tempo' 'VUE Hybrid' 'Tracer' 'previa' 'Esteem'\n",
      " '750lxi' 'pathfind' 'Blackwood' 'V8 Vantage' 'Discovery' 'focus'\n",
      " 'sebring' 'Civic del Sol' 'Caprice' 'suburban' 'Karma' 'TTS' 'mpv'\n",
      " 'Prelude' 'golf' 'J30' 'g1500' 'i-Series' 'escalade' 's55' 'avalon'\n",
      " 'ActiveHybrid X6' 'GS 460' 'crown' 'Sierra 2500' 'century' 'corsica'\n",
      " '300e' 'equinox' 'aveo' 'Amigo' 'Prowler' 'regal' 'SLS AMG GT'\n",
      " 'Milan Hybrid' 'SC 400' 'g2500' 'B-Class Electric Drive' 'Montana SV6'\n",
      " 'twn/cntry' 'GranTurismo Convertible' '960' 'S90' 'Sidekick'\n",
      " 'CV Tradesman' 'charger' 'f350' 'safari' 'rangerover' 'wave' 'crossfire'\n",
      " '500e' 'B-Series Truck' 'i8' 'LX 450' 'dakota' '323i' 'pathfinder'\n",
      " 'Exige' 'c230' 'camaro' 'X4' 'Spyder' 'g5' 'cougar' 'Aspire' 'vibe' 'ram'\n",
      " 'mountaineer' 'RC F' 'e300dt' 'tahoe' 'voyager' 'Marauder' 'excurs'\n",
      " 'Safari Cargo' 'mountnr' 'intrepid' 'GranSport'\n",
      " 'Continental Flying Spur Speed' 'savana' 'Flying Spur' 'sonoma' 'expedit'\n",
      " 'E-150' 'Riviera' 'Tribute Hybrid' 'allure' 'optra' 'C/K 3500 Series'\n",
      " 'mazda6' 'TLX' 'sx4' 'RS 4' 'borrego' '420-Class' 'Paseo' 'quattroporte'\n",
      " 'Windstar Cargo' 'Aura Hybrid' 'Regency' 'ciera' 'Safari' '190-Class'\n",
      " 'ML55 AMG' 'F-150 SVT Lightning' 'el' 'Sierra 1500 Hybrid' 'E-250'\n",
      " 'carrera' 'T100' 'Metro' 'Mazdaspeed MX-5 Miata' 'optima' 'interstate'\n",
      " 'Rapide' 'CTS-V Wagon' 'c240w' 'Q3' '320i' 'Corsica' 'Legend' 'capt'\n",
      " 'TT RS']\n",
      "\n",
      "-----------\n",
      "trim\n",
      "['LT Fleet' 'SLT' 'GT' ... 'XLE Touring SE' '60' 'SS/T']\n",
      "\n",
      "-----------\n",
      "body\n",
      "['Sedan' 'Quad Cab' 'Convertible' 'SUV' 'Van' 'sedan' 'suv' 'Hatchback'\n",
      " 'SuperCrew' 'coupe' 'Crew Cab' 'G Sedan' 'Regular Cab' 'Minivan' 'Coupe'\n",
      " 'wagon' 'Wagon' 'regular cab' 'SuperCab' 'G Coupe' 'crew cab'\n",
      " 'Extended Cab' nan 'hatchback' 'convertible' 'extended cab' 'minivan'\n",
      " 'supercrew' 'E-Series Van' 'Q60 Convertible' 'q60 coupe' 'quad cab'\n",
      " 'Double Cab' 'cts coupe' 'Elantra Coupe' 'Cab Plus' 'supercab'\n",
      " 'G Convertible' 'e-series van' 'g sedan' 'King Cab' 'king cab'\n",
      " 'crewmax cab' 'Genesis Coupe' 'Access Cab' 'genesis coupe' 'Koup' 'van'\n",
      " 'Beetle Convertible' 'g coupe' 'Club Cab' 'CrewMax Cab' 'double cab'\n",
      " 'CTS Coupe' 'tsx sport wagon' 'club cab' 'Transit Van' 'Navitgation'\n",
      " 'Q60 Coupe' 'mega cab' 'access cab' 'g convertible' 'koup' 'Xtracab'\n",
      " 'cts-v coupe' 'Mega Cab' 'Promaster Cargo Van' 'TSX Sport Wagon'\n",
      " 'CTS-V Coupe' 'elantra coupe' 'transit van' 'q60 convertible' 'G37 Coupe'\n",
      " 'G37 Convertible' 'cts wagon' 'promaster cargo van' 'CTS Wagon'\n",
      " 'Cab Plus 4' 'regular-cab' 'GranTurismo Convertible' 'beetle convertible'\n",
      " 'cab plus 4' 'g37 convertible' 'xtracab' 'granturismo convertible'\n",
      " 'CTS-V Wagon']\n",
      "\n",
      "-----------\n",
      "transmission\n",
      "['automatic' nan 'manual' 'Sedan' 'sedan']\n",
      "\n",
      "-----------\n",
      "state\n",
      "['fl' 'mo' 'nj' 'pa' 'il' 'tx' 'ut' 'mn' 'ca' 'md' 'va' 'ga' 'qc' 'ma'\n",
      " 'mi' 'tn' 'nc' 'oh' 'ms' 'co' 'sc' 'wi' 'az' 'hi' 'ne' 'wa' 'ny' 'pr'\n",
      " 'nv' 'on' 'in' 'la' 'nm' 'ab' 'or' 'ok' 'ns' '3vwd17aj5fm219943'\n",
      " '3vwd17aj5fm297123' 'al' '3vwd17aj5fm273601' '3vwd17aj7fm326640'\n",
      " '3vwd17aj6fm231972' '3vwd17aj7fm223475' '3vwd17aj4fm201708'\n",
      " '3vwd17aj4fm236636' '3vwd17ajxfm315938' '3vwd17aj0fm227318'\n",
      " '3vwd17aj5fm206111' '3vwd17aj7fm218440']\n",
      "\n",
      "-----------\n",
      "condition\n",
      "[ 4. 31. 34. 43. 35. 32. 49. 42. 21. 28. 38. 26. 47. 46. 25. 24. 29. 37.\n",
      " 44. 19. 36. 23. 27. 48. 22. 39. nan  1. 41. 33.  3. 45.  5.  2. 17. 11.\n",
      " 16. 14. 15. 13. 18. 12.]\n",
      "\n",
      "-----------\n",
      "odometer\n",
      "[ 21507.  79712.  65698. ... 149657.  24339.  12869.]\n",
      "\n",
      "-----------\n",
      "color\n",
      "['white' '—' 'red' 'black' 'burgundy' 'blue' 'silver' 'purple' nan 'gray'\n",
      " 'gold' 'beige' 'green' 'charcoal' 'yellow' 'brown' 'orange' 'off-white'\n",
      " 'turquoise' '16633' 'pink' '6388' '339' 'lime' '2846' '9837' '15719'\n",
      " '4802' '5705' '721' '14872' '6864' '20627']\n",
      "\n",
      "-----------\n",
      "interior\n",
      "['black' 'beige' 'brown' 'tan' 'gray' nan '—' 'silver' 'green' 'off-white'\n",
      " 'blue' 'red' 'burgundy' 'gold' 'purple' 'orange' 'white' 'yellow']\n",
      "\n",
      "-----------\n",
      "seller\n",
      "['gm remarketing' 'tdaf remarketing' 'car authority inc' ...\n",
      " 'apple used autos shakopee' 'golden state llc' 'carz central']\n",
      "\n",
      "-----------\n",
      "mmr\n",
      "[ 13450.   6025.   7375. ... 134000. 120000. 156000.]\n",
      "\n",
      "-----------\n",
      "sellingprice\n",
      "[13800.  6300.  8000. ... 63400. 66200. 22225.]\n",
      "\n",
      "-----------\n",
      "sale_year\n",
      "[2015 2014    0]\n",
      "\n",
      "-----------\n",
      "sale_month\n",
      "[ 2  1  3  5  6 12  7  4  0]\n",
      "\n",
      "-----------\n",
      "sale_day\n",
      "[22 19 13 26 29 15  8  3  4 14 10 24 11  1  6 18 27  7 23  9 20  2 25 16\n",
      " 12  5 17 21 28 31 30  0]\n",
      "\n",
      "-----------\n",
      "sale_weekday\n",
      "[6 0 1 3 2 4]\n",
      "\n",
      "-----------\n"
     ]
    }
   ],
   "source": [
    "for i in df.columns:\n",
    "    print(i)\n",
    "    print(df[i].unique())\n",
    "    print()\n",
    "    print('-----------')"
   ]
  },
  {
   "cell_type": "code",
   "execution_count": 668,
   "id": "b4ab7e1a",
   "metadata": {},
   "outputs": [
    {
     "name": "stdout",
     "output_type": "stream",
     "text": [
      "['Chevrolet' 'Dodge' 'Pontiac' 'Toyota' 'Lexus' 'Honda' 'Ford' 'Jeep'\n",
      " 'Mercedes-Benz' 'Hyundai' 'Mercury' 'Mazda' 'Kia' 'Nissan' 'Saturn'\n",
      " 'Chrysler' 'Volvo' 'Audi' 'Infiniti' 'BMW' 'Buick' 'Volkswagen'\n",
      " 'Mitsubishi' 'Subaru' 'MINI' 'Ram' 'Lincoln' 'Suzuki' 'Isuzu' 'GMC'\n",
      " 'Cadillac' 'Land Rover' None 'Scion' 'Acura' 'FIAT' 'Porsche' 'Bentley'\n",
      " 'Jaguar' 'Saab' 'Smart' 'HUMMER' 'Oldsmobile' 'Ferrari' 'Daewoo'\n",
      " 'Maserati' 'Rolls-Royce' 'Geo' 'Plymouth' 'Tesla' 'Aston Martin'\n",
      " 'Lamborghini' 'Fisker' 'Lotus' 'Airstream']\n"
     ]
    }
   ],
   "source": [
    "make_corrections = {\n",
    "    \"honda\": \"Honda\",\n",
    "    \"ford\": \"Ford\",\n",
    "    \"chevrolet\": \"Chevrolet\",\n",
    "    \"toyota\": \"Toyota\",\n",
    "    \"lexus\": \"Lexus\",\n",
    "    \"nissan\": \"Nissan\",\n",
    "    \"mitsubishi\": \"Mitsubishi\",\n",
    "    \"acura\": \"Acura\",\n",
    "    \"porsche\": \"Porsche\",\n",
    "    \"mercedes\": \"Mercedes-Benz\",\n",
    "    \"mercury\": \"Mercury\",\n",
    "    \"suzuki\": \"Suzuki\",\n",
    "    \"mazda\": \"Mazda\",\n",
    "    \"land rover\": \"Land Rover\",\n",
    "    \"landrover\": \"Land Rover\",\n",
    "    \"gmc\": \"GMC\",\n",
    "    \"oldsmobile\": \"Oldsmobile\",\n",
    "    \"bmw\": \"BMW\",\n",
    "    \"pontiac\": \"Pontiac\",\n",
    "    \"plymouth\": \"Plymouth\",\n",
    "    \"kia\": \"Kia\",\n",
    "    \"maserati\": \"Maserati\",\n",
    "    \"vw\": \"Volkswagen\",\n",
    "    \"subaru\": \"Subaru\",\n",
    "    \"jeep\": \"Jeep\",\n",
    "    \"buick\": \"Buick\",\n",
    "    \"lincoln\": \"Lincoln\",\n",
    "    \"audi\": \"Audi\",\n",
    "    \"ford truck\": \"Ford\",\n",
    "    \"ford tk\": \"Ford\",\n",
    "    \"mazda tk\": \"Mazda\",\n",
    "    \"gmc truck\": \"GMC\",\n",
    "    \"dot\": None,  \n",
    "}\n",
    "\n",
    "\n",
    "df['make'] = df['make'].str.strip().str.lower().replace(make_corrections)\n",
    "\n",
    "\n",
    "df['make'] = df['make'].apply(lambda x: None if pd.isna(x) else x.title())\n",
    "df['make'] = df['make'].replace({\n",
    "    \"Bmw\": \"BMW\",\n",
    "    \"Gmc\": \"GMC\",\n",
    "    \"Fiat\": \"FIAT\",\n",
    "    \"Mini\": \"MINI\",\n",
    "    \"Hummer\": \"HUMMER\",\n",
    "    \"Vw\": \"Volkswagen\"  \n",
    "})\n",
    "\n",
    "print(df['make'].unique())\n"
   ]
  },
  {
   "cell_type": "code",
   "execution_count": 669,
   "id": "38cb6842",
   "metadata": {},
   "outputs": [
    {
     "data": {
      "text/plain": [
       "make\n",
       "Ford             46850\n",
       "Chevrolet        30294\n",
       "Nissan           27027\n",
       "Toyota           20092\n",
       "Dodge            15533\n",
       "Honda            13738\n",
       "Hyundai          10868\n",
       "BMW              10399\n",
       "Kia               9030\n",
       "Chrysler          8749\n",
       "Mercedes-Benz     8618\n",
       "Jeep              7719\n",
       "Infiniti          7590\n",
       "Volkswagen        6351\n",
       "Lexus             6094\n",
       "GMC               5311\n",
       "Mazda             4129\n",
       "Cadillac          3858\n",
       "Acura             2948\n",
       "Lincoln           2900\n",
       "Audi              2883\n",
       "Subaru            2552\n",
       "Buick             2540\n",
       "Ram               2306\n",
       "Pontiac           2264\n",
       "Mitsubishi        2178\n",
       "Volvo             1936\n",
       "MINI              1616\n",
       "Saturn            1401\n",
       "Mercury           1035\n",
       "Land Rover         963\n",
       "Scion              857\n",
       "Jaguar             670\n",
       "Porsche            658\n",
       "Suzuki             541\n",
       "FIAT               428\n",
       "HUMMER             402\n",
       "Saab               208\n",
       "Smart              200\n",
       "Oldsmobile         198\n",
       "Isuzu              114\n",
       "Maserati            71\n",
       "Bentley             60\n",
       "Geo                 13\n",
       "Aston Martin        11\n",
       "Tesla               10\n",
       "Plymouth             9\n",
       "Ferrari              8\n",
       "Rolls-Royce          7\n",
       "Fisker               5\n",
       "Daewoo               3\n",
       "Lamborghini          2\n",
       "Lotus                1\n",
       "Airstream            1\n",
       "Name: count, dtype: int64"
      ]
     },
     "execution_count": 669,
     "metadata": {},
     "output_type": "execute_result"
    }
   ],
   "source": [
    "df['make'].value_counts()"
   ]
  },
  {
   "cell_type": "code",
   "execution_count": 670,
   "id": "197f1a4e",
   "metadata": {},
   "outputs": [
    {
     "name": "stdout",
     "output_type": "stream",
     "text": [
      "['Sedan' 'Quad Cab' 'Convertible' 'Suv' 'Van' 'Hatchback' 'Supercrew'\n",
      " 'Coupe' 'Crew Cab' 'G Sedan' 'Regular Cab' 'Minivan' 'Wagon' 'Supercab'\n",
      " 'G Coupe' 'Extended Cab' nan 'E-Series Van' 'Q60 Convertible' 'Q60 Coupe'\n",
      " 'Double Cab' 'Cts Coupe' 'Elantra Coupe' 'Cab Plus' 'G Convertible'\n",
      " 'King Cab' 'Crewmax Cab' 'Genesis Coupe' 'Access Cab' 'Koup'\n",
      " 'Beetle Convertible' 'Club Cab' 'Tsx Sport Wagon' 'Transit Van'\n",
      " 'Navitgation' 'Mega Cab' 'Xtracab' 'Cts-V Coupe' 'Promaster Cargo Van'\n",
      " 'G37 Coupe' 'G37 Convertible' 'Cts Wagon' 'Cab Plus 4'\n",
      " 'Granturismo Convertible' 'Cts-V Wagon']\n"
     ]
    }
   ],
   "source": [
    "\n",
    "df['body'] = df['body'].str.lower().str.strip()\n",
    "\n",
    "replace_map = {\n",
    "    'suv': 'SUV',\n",
    "    'sedan': 'Sedan',\n",
    "    'coupe': 'Coupe',\n",
    "    'convertible': 'Convertible',\n",
    "    'hatchback': 'Hatchback',\n",
    "    'wagon': 'Wagon',\n",
    "    'minivan': 'Minivan',\n",
    "    'van': 'Van',\n",
    "    'regular cab': 'Regular Cab',\n",
    "    'regular-cab': 'Regular Cab',\n",
    "    'quad cab': 'Quad Cab',\n",
    "    'double cab': 'Double Cab',\n",
    "    'crew cab': 'Crew Cab',\n",
    "    'supercrew': 'SuperCrew',\n",
    "    'supercab': 'SuperCab',\n",
    "    'extended cab': 'Extended Cab',\n",
    "    'access cab': 'Access Cab',\n",
    "    'king cab': 'King Cab',\n",
    "    'mega cab': 'Mega Cab',\n",
    "    'crewmax cab': 'CrewMax Cab',\n",
    "    'club cab': 'Club Cab',\n",
    "    'cab plus': 'Cab Plus',\n",
    "    'cab plus 4': 'Cab Plus 4',\n",
    "    'xtracab': 'Xtracab',\n",
    "    'transit van': 'Transit Van',\n",
    "    'e-series van': 'E-Series Van',\n",
    "    'promaster cargo van': 'Promaster Cargo Van',\n",
    "    'cts coupe': 'CTS Coupe',\n",
    "    'cts wagon': 'CTS Wagon',\n",
    "    'cts-v coupe': 'CTS-V Coupe',\n",
    "    'cts-v wagon': 'CTS-V Wagon',\n",
    "    'tsx sport wagon': 'TSX Sport Wagon',\n",
    "    'elantra coupe': 'Elantra Coupe',\n",
    "    'genesis coupe': 'Genesis Coupe',\n",
    "    'g sedan': 'G Sedan',\n",
    "    'g coupe': 'G Coupe',\n",
    "    'g convertible': 'G Convertible',\n",
    "    'q60 coupe': 'Q60 Coupe',\n",
    "    'q60 convertible': 'Q60 Convertible',\n",
    "    'g37 coupe': 'G37 Coupe',\n",
    "    'g37 convertible': 'G37 Convertible',\n",
    "    'beetle convertible': 'Beetle Convertible',\n",
    "    'granturismo convertible': 'GranTurismo Convertible',\n",
    "    'koup': 'Koup'\n",
    "}\n",
    "\n",
    "df['body'] = df['body'].replace(replace_map)\n",
    "\n",
    "df['body'] = df['body'].str.title()\n",
    "\n",
    "print(df['body'].unique())\n"
   ]
  },
  {
   "cell_type": "code",
   "execution_count": 671,
   "id": "92bd37f2",
   "metadata": {},
   "outputs": [
    {
     "data": {
      "text/plain": [
       "transmission\n",
       "automatic    237831\n",
       "manual         8767\n",
       "sedan             7\n",
       "Sedan             5\n",
       "Name: count, dtype: int64"
      ]
     },
     "execution_count": 671,
     "metadata": {},
     "output_type": "execute_result"
    }
   ],
   "source": [
    "df['transmission'].value_counts()"
   ]
  },
  {
   "cell_type": "code",
   "execution_count": 672,
   "id": "631cc4e6",
   "metadata": {},
   "outputs": [],
   "source": [
    "df.loc[df['transmission'].str.lower() == 'sedan', 'transmission'] = np.nan"
   ]
  },
  {
   "cell_type": "code",
   "execution_count": 673,
   "id": "eba2b6b0",
   "metadata": {},
   "outputs": [],
   "source": [
    "df.loc[df['state'] == '3vwd17aj5fm219943', 'state'] = np.nan"
   ]
  },
  {
   "cell_type": "code",
   "execution_count": 674,
   "id": "9a927618",
   "metadata": {},
   "outputs": [],
   "source": [
    "df.loc[df['state'] == '3vwd17aj5fm297123', 'state'] = np.nan"
   ]
  },
  {
   "cell_type": "code",
   "execution_count": 675,
   "id": "b209581b",
   "metadata": {},
   "outputs": [],
   "source": [
    "df.loc[df['state'] == '3vwd17aj5fm273601', 'state'] = np.nan"
   ]
  },
  {
   "cell_type": "code",
   "execution_count": 676,
   "id": "b3839b4b",
   "metadata": {},
   "outputs": [],
   "source": [
    "df.loc[df['state'] == '3vwd17aj7fm326640', 'state'] = np.nan"
   ]
  },
  {
   "cell_type": "code",
   "execution_count": 677,
   "id": "af6b2810",
   "metadata": {},
   "outputs": [],
   "source": [
    "df.loc[df['state'] == '3vwd17aj6fm231972', 'state'] = np.nan"
   ]
  },
  {
   "cell_type": "code",
   "execution_count": 678,
   "id": "fd250c1b",
   "metadata": {},
   "outputs": [],
   "source": [
    "df.loc[df['state'] == '3vwd17aj7fm223475', 'state'] = np.nan"
   ]
  },
  {
   "cell_type": "code",
   "execution_count": 679,
   "id": "ffd5a894",
   "metadata": {},
   "outputs": [],
   "source": [
    "df.loc[df['state'] == '3vwd17aj4fm201708', 'state'] = np.nan"
   ]
  },
  {
   "cell_type": "code",
   "execution_count": 680,
   "id": "b9493a9b",
   "metadata": {},
   "outputs": [],
   "source": [
    "df.loc[df['state'] == '3vwd17aj4fm236636', 'state'] = np.nan"
   ]
  },
  {
   "cell_type": "code",
   "execution_count": 681,
   "id": "b6cda74f",
   "metadata": {},
   "outputs": [],
   "source": [
    "df.loc[df['state'] == '3vwd17ajxfm315938', 'state'] = np.nan"
   ]
  },
  {
   "cell_type": "code",
   "execution_count": 682,
   "id": "3d5ba66b",
   "metadata": {},
   "outputs": [],
   "source": [
    "df.loc[df['state'] == '3vwd17aj5fm206111', 'state'] = np.nan"
   ]
  },
  {
   "cell_type": "code",
   "execution_count": 683,
   "id": "2c4bea29",
   "metadata": {},
   "outputs": [],
   "source": [
    "df.loc[df['state'] == '3vwd17aj7fm218440', 'state'] = np.nan"
   ]
  },
  {
   "cell_type": "code",
   "execution_count": 684,
   "id": "cb175e42",
   "metadata": {},
   "outputs": [],
   "source": [
    "df.loc[df['state'] == '3vwd17aj0fm227318', 'state'] = np.nan"
   ]
  },
  {
   "cell_type": "code",
   "execution_count": 685,
   "id": "b6786149",
   "metadata": {},
   "outputs": [
    {
     "data": {
      "text/plain": [
       "state\n",
       "fl    41562\n",
       "ca    36557\n",
       "pa    27039\n",
       "tx    22846\n",
       "ga    17419\n",
       "nj    13885\n",
       "il    11744\n",
       "nc    10911\n",
       "oh    10730\n",
       "tn    10370\n",
       "mo     8003\n",
       "mi     7776\n",
       "nv     6365\n",
       "va     6013\n",
       "md     5489\n",
       "wi     4944\n",
       "mn     4654\n",
       "az     4397\n",
       "co     3882\n",
       "wa     3702\n",
       "ma     3370\n",
       "ny     2843\n",
       "in     2161\n",
       "sc     2143\n",
       "ne     2007\n",
       "on     1744\n",
       "pr     1388\n",
       "la     1103\n",
       "ms      941\n",
       "ut      913\n",
       "qc      657\n",
       "hi      641\n",
       "or      577\n",
       "ab      464\n",
       "nm       89\n",
       "ok       40\n",
       "ns       24\n",
       "al       13\n",
       "Name: count, dtype: int64"
      ]
     },
     "execution_count": 685,
     "metadata": {},
     "output_type": "execute_result"
    }
   ],
   "source": [
    "df['state'].value_counts()"
   ]
  },
  {
   "cell_type": "code",
   "execution_count": 686,
   "id": "d015483b",
   "metadata": {},
   "outputs": [
    {
     "data": {
      "text/plain": [
       "interior\n",
       "black        122375\n",
       "gray          89232\n",
       "beige         29915\n",
       "tan           21818\n",
       "—              8595\n",
       "brown          4363\n",
       "red             666\n",
       "blue            556\n",
       "silver          541\n",
       "off-white       225\n",
       "purple          165\n",
       "gold            156\n",
       "white           125\n",
       "green           119\n",
       "burgundy         88\n",
       "orange           79\n",
       "yellow           10\n",
       "Name: count, dtype: int64"
      ]
     },
     "execution_count": 686,
     "metadata": {},
     "output_type": "execute_result"
    }
   ],
   "source": [
    "df['interior'].value_counts()"
   ]
  },
  {
   "cell_type": "code",
   "execution_count": 687,
   "id": "53980160",
   "metadata": {},
   "outputs": [],
   "source": [
    "df.replace('—', np.nan, inplace=True)\n"
   ]
  },
  {
   "cell_type": "code",
   "execution_count": 688,
   "id": "df184c21",
   "metadata": {},
   "outputs": [],
   "source": [
    "df.replace('.', 'np.nan', inplace=True)"
   ]
  },
  {
   "cell_type": "code",
   "execution_count": 689,
   "id": "364e540d",
   "metadata": {},
   "outputs": [],
   "source": [
    "df.loc[df['color'] == '4802', 'color'] = np.nan"
   ]
  },
  {
   "cell_type": "code",
   "execution_count": 690,
   "id": "50508d0f",
   "metadata": {},
   "outputs": [],
   "source": [
    "df.loc[df['color'] == '6864', 'color'] = np.nan"
   ]
  },
  {
   "cell_type": "code",
   "execution_count": 691,
   "id": "79aa9981",
   "metadata": {},
   "outputs": [],
   "source": [
    "df.loc[df['color'] == '14872', 'color'] = np.nan"
   ]
  },
  {
   "cell_type": "code",
   "execution_count": 692,
   "id": "7eb3e9ec",
   "metadata": {},
   "outputs": [],
   "source": [
    "df.loc[df['color'] == '721', 'color'] = np.nan"
   ]
  },
  {
   "cell_type": "code",
   "execution_count": 693,
   "id": "a5c48277",
   "metadata": {},
   "outputs": [],
   "source": [
    "df.loc[df['color'] == '5705', 'color'] = np.nan"
   ]
  },
  {
   "cell_type": "code",
   "execution_count": 694,
   "id": "a4091564",
   "metadata": {},
   "outputs": [],
   "source": [
    "df.loc[df['color'] == '2846', 'color'] = np.nan"
   ]
  },
  {
   "cell_type": "code",
   "execution_count": 695,
   "id": "8b8ee31b",
   "metadata": {},
   "outputs": [],
   "source": [
    "df.loc[df['color'] == '15719', 'color'] = np.nan"
   ]
  },
  {
   "cell_type": "code",
   "execution_count": 696,
   "id": "0194d88e",
   "metadata": {},
   "outputs": [],
   "source": [
    "df.loc[df['color'] == '9837', 'color'] = np.nan"
   ]
  },
  {
   "cell_type": "code",
   "execution_count": 697,
   "id": "bfd71581",
   "metadata": {},
   "outputs": [],
   "source": [
    "df.loc[df['color'] == '339', 'color'] = np.nan"
   ]
  },
  {
   "cell_type": "code",
   "execution_count": 698,
   "id": "752d2b02",
   "metadata": {},
   "outputs": [],
   "source": [
    "df.loc[df['color'] == '6388', 'color'] = np.nan"
   ]
  },
  {
   "cell_type": "code",
   "execution_count": 699,
   "id": "0ca651f1",
   "metadata": {},
   "outputs": [],
   "source": [
    "df.loc[df['color'] == '16633', 'color'] = np.nan"
   ]
  },
  {
   "cell_type": "code",
   "execution_count": 700,
   "id": "b2216ae6",
   "metadata": {},
   "outputs": [],
   "source": [
    "df.loc[df['color'] == '20627', 'color'] = np.nan"
   ]
  },
  {
   "cell_type": "code",
   "execution_count": 701,
   "id": "5a79568d",
   "metadata": {},
   "outputs": [
    {
     "data": {
      "text/plain": [
       "interior\n",
       "black        122375\n",
       "gray          89232\n",
       "beige         29915\n",
       "tan           21818\n",
       "brown          4363\n",
       "red             666\n",
       "blue            556\n",
       "silver          541\n",
       "off-white       225\n",
       "purple          165\n",
       "gold            156\n",
       "white           125\n",
       "green           119\n",
       "burgundy         88\n",
       "orange           79\n",
       "yellow           10\n",
       "Name: count, dtype: int64"
      ]
     },
     "execution_count": 701,
     "metadata": {},
     "output_type": "execute_result"
    }
   ],
   "source": [
    "df['interior'].value_counts()"
   ]
  },
  {
   "cell_type": "code",
   "execution_count": 702,
   "id": "b0af07f7",
   "metadata": {
    "scrolled": true
   },
   "outputs": [
    {
     "data": {
      "text/plain": [
       "color\n",
       "black        55632\n",
       "white        53284\n",
       "silver       41685\n",
       "gray         41382\n",
       "blue         25543\n",
       "red          21905\n",
       "gold          5742\n",
       "green         5719\n",
       "beige         4643\n",
       "burgundy      4428\n",
       "brown         3295\n",
       "orange        1029\n",
       "purple         769\n",
       "off-white      701\n",
       "yellow         659\n",
       "charcoal       255\n",
       "turquoise      109\n",
       "pink            22\n",
       "lime             6\n",
       "Name: count, dtype: int64"
      ]
     },
     "execution_count": 702,
     "metadata": {},
     "output_type": "execute_result"
    }
   ],
   "source": [
    "df['color'].value_counts()"
   ]
  },
  {
   "cell_type": "code",
   "execution_count": 703,
   "id": "9ab79415",
   "metadata": {},
   "outputs": [
    {
     "data": {
      "text/plain": [
       "year                0\n",
       "make             5169\n",
       "model            5213\n",
       "trim             5336\n",
       "body             6600\n",
       "transmission    32820\n",
       "state              12\n",
       "condition        5863\n",
       "odometer           44\n",
       "color           12610\n",
       "interior         8985\n",
       "seller              0\n",
       "mmr                16\n",
       "sellingprice        4\n",
       "sale_year           0\n",
       "sale_month          0\n",
       "sale_day            0\n",
       "sale_weekday        0\n",
       "dtype: int64"
      ]
     },
     "execution_count": 703,
     "metadata": {},
     "output_type": "execute_result"
    }
   ],
   "source": [
    "df.isnull().sum()"
   ]
  },
  {
   "cell_type": "code",
   "execution_count": 704,
   "id": "faf01dcb",
   "metadata": {},
   "outputs": [
    {
     "data": {
      "text/plain": [
       "year             0.000000\n",
       "make             1.849917\n",
       "model            1.865664\n",
       "trim             1.909684\n",
       "body             2.362053\n",
       "transmission    11.745843\n",
       "state            0.004295\n",
       "condition        2.098290\n",
       "odometer         0.015747\n",
       "color            4.512952\n",
       "interior         3.215612\n",
       "seller           0.000000\n",
       "mmr              0.005726\n",
       "sellingprice     0.001432\n",
       "sale_year        0.000000\n",
       "sale_month       0.000000\n",
       "sale_day         0.000000\n",
       "sale_weekday     0.000000\n",
       "dtype: float64"
      ]
     },
     "execution_count": 704,
     "metadata": {},
     "output_type": "execute_result"
    }
   ],
   "source": [
    "df.isnull().sum()/len(df)*100"
   ]
  },
  {
   "cell_type": "code",
   "execution_count": 705,
   "id": "eb0e3db9",
   "metadata": {},
   "outputs": [
    {
     "name": "stdout",
     "output_type": "stream",
     "text": [
      "<class 'pandas.core.frame.DataFrame'>\n",
      "Index: 279418 entries, 311497 to 303861\n",
      "Data columns (total 18 columns):\n",
      " #   Column        Non-Null Count   Dtype  \n",
      "---  ------        --------------   -----  \n",
      " 0   year          279418 non-null  int64  \n",
      " 1   make          274249 non-null  object \n",
      " 2   model         274205 non-null  object \n",
      " 3   trim          274082 non-null  object \n",
      " 4   body          272818 non-null  object \n",
      " 5   transmission  246598 non-null  object \n",
      " 6   state         279406 non-null  object \n",
      " 7   condition     273555 non-null  float64\n",
      " 8   odometer      279374 non-null  float64\n",
      " 9   color         266808 non-null  object \n",
      " 10  interior      270433 non-null  object \n",
      " 11  seller        279418 non-null  object \n",
      " 12  mmr           279402 non-null  float64\n",
      " 13  sellingprice  279414 non-null  float64\n",
      " 14  sale_year     279418 non-null  int64  \n",
      " 15  sale_month    279418 non-null  int64  \n",
      " 16  sale_day      279418 non-null  int64  \n",
      " 17  sale_weekday  279418 non-null  int64  \n",
      "dtypes: float64(4), int64(5), object(9)\n",
      "memory usage: 40.5+ MB\n"
     ]
    }
   ],
   "source": [
    "df.info()"
   ]
  },
  {
   "cell_type": "code",
   "execution_count": 706,
   "id": "6d168022",
   "metadata": {},
   "outputs": [
    {
     "name": "stdout",
     "output_type": "stream",
     "text": [
      "<class 'pandas.core.frame.DataFrame'>\n",
      "Index: 279418 entries, 311497 to 303861\n",
      "Data columns (total 18 columns):\n",
      " #   Column        Non-Null Count   Dtype  \n",
      "---  ------        --------------   -----  \n",
      " 0   year          279418 non-null  int64  \n",
      " 1   make          274249 non-null  object \n",
      " 2   model         274205 non-null  object \n",
      " 3   trim          274082 non-null  object \n",
      " 4   body          272818 non-null  object \n",
      " 5   transmission  246598 non-null  object \n",
      " 6   state         279406 non-null  object \n",
      " 7   condition     273555 non-null  float64\n",
      " 8   odometer      279374 non-null  float64\n",
      " 9   color         266808 non-null  object \n",
      " 10  interior      270433 non-null  object \n",
      " 11  seller        279418 non-null  object \n",
      " 12  mmr           279402 non-null  float64\n",
      " 13  sellingprice  279414 non-null  float64\n",
      " 14  sale_year     279418 non-null  int64  \n",
      " 15  sale_month    279418 non-null  int64  \n",
      " 16  sale_day      279418 non-null  int64  \n",
      " 17  sale_weekday  279418 non-null  int64  \n",
      "dtypes: float64(4), int64(5), object(9)\n",
      "memory usage: 40.5+ MB\n"
     ]
    }
   ],
   "source": [
    "df.info()"
   ]
  },
  {
   "cell_type": "code",
   "execution_count": 707,
   "id": "a5596487",
   "metadata": {},
   "outputs": [
    {
     "data": {
      "text/plain": [
       "year             0.000000\n",
       "make             1.849917\n",
       "model            1.865664\n",
       "trim             1.909684\n",
       "body             2.362053\n",
       "transmission    11.745843\n",
       "state            0.004295\n",
       "condition        2.098290\n",
       "odometer         0.015747\n",
       "color            4.512952\n",
       "interior         3.215612\n",
       "seller           0.000000\n",
       "mmr              0.005726\n",
       "sellingprice     0.001432\n",
       "sale_year        0.000000\n",
       "sale_month       0.000000\n",
       "sale_day         0.000000\n",
       "sale_weekday     0.000000\n",
       "dtype: float64"
      ]
     },
     "execution_count": 707,
     "metadata": {},
     "output_type": "execute_result"
    }
   ],
   "source": [
    "df.isnull().sum()/len(df)*100"
   ]
  },
  {
   "cell_type": "code",
   "execution_count": 708,
   "id": "b5e9fc0e",
   "metadata": {},
   "outputs": [
    {
     "data": {
      "text/plain": [
       "['year',\n",
       " 'condition',\n",
       " 'odometer',\n",
       " 'mmr',\n",
       " 'sellingprice',\n",
       " 'sale_year',\n",
       " 'sale_month',\n",
       " 'sale_day',\n",
       " 'sale_weekday']"
      ]
     },
     "execution_count": 708,
     "metadata": {},
     "output_type": "execute_result"
    }
   ],
   "source": [
    "num = df.select_dtypes(include='number').columns.to_list()\n",
    "num"
   ]
  },
  {
   "cell_type": "code",
   "execution_count": 709,
   "id": "d5430c1d",
   "metadata": {},
   "outputs": [
    {
     "data": {
      "text/plain": [
       "['make',\n",
       " 'model',\n",
       " 'trim',\n",
       " 'body',\n",
       " 'transmission',\n",
       " 'state',\n",
       " 'color',\n",
       " 'interior',\n",
       " 'seller']"
      ]
     },
     "execution_count": 709,
     "metadata": {},
     "output_type": "execute_result"
    }
   ],
   "source": [
    "cat = df.select_dtypes(include=object).columns.to_list()\n",
    "cat"
   ]
  },
  {
   "cell_type": "code",
   "execution_count": 710,
   "id": "342b6cc7",
   "metadata": {},
   "outputs": [
    {
     "data": {
      "text/html": [
       "<div>\n",
       "<style scoped>\n",
       "    .dataframe tbody tr th:only-of-type {\n",
       "        vertical-align: middle;\n",
       "    }\n",
       "\n",
       "    .dataframe tbody tr th {\n",
       "        vertical-align: top;\n",
       "    }\n",
       "\n",
       "    .dataframe thead th {\n",
       "        text-align: right;\n",
       "    }\n",
       "</style>\n",
       "<table border=\"1\" class=\"dataframe\">\n",
       "  <thead>\n",
       "    <tr style=\"text-align: right;\">\n",
       "      <th></th>\n",
       "      <th>year</th>\n",
       "      <th>condition</th>\n",
       "      <th>odometer</th>\n",
       "      <th>mmr</th>\n",
       "      <th>sellingprice</th>\n",
       "      <th>sale_year</th>\n",
       "      <th>sale_month</th>\n",
       "      <th>sale_day</th>\n",
       "      <th>sale_weekday</th>\n",
       "    </tr>\n",
       "  </thead>\n",
       "  <tbody>\n",
       "    <tr>\n",
       "      <th>count</th>\n",
       "      <td>279418.000000</td>\n",
       "      <td>273555.000000</td>\n",
       "      <td>279374.000000</td>\n",
       "      <td>279402.000000</td>\n",
       "      <td>279414.000000</td>\n",
       "      <td>279418.000000</td>\n",
       "      <td>279418.000000</td>\n",
       "      <td>279418.000000</td>\n",
       "      <td>279418.000000</td>\n",
       "    </tr>\n",
       "    <tr>\n",
       "      <th>mean</th>\n",
       "      <td>2010.040119</td>\n",
       "      <td>30.695831</td>\n",
       "      <td>68286.467896</td>\n",
       "      <td>13765.626946</td>\n",
       "      <td>13607.163811</td>\n",
       "      <td>2014.788571</td>\n",
       "      <td>3.796785</td>\n",
       "      <td>14.661131</td>\n",
       "      <td>1.472704</td>\n",
       "    </tr>\n",
       "    <tr>\n",
       "      <th>std</th>\n",
       "      <td>3.968062</td>\n",
       "      <td>13.378438</td>\n",
       "      <td>53391.876852</td>\n",
       "      <td>9653.741729</td>\n",
       "      <td>9718.660738</td>\n",
       "      <td>15.249534</td>\n",
       "      <td>3.229932</td>\n",
       "      <td>8.583021</td>\n",
       "      <td>1.240399</td>\n",
       "    </tr>\n",
       "    <tr>\n",
       "      <th>min</th>\n",
       "      <td>1983.000000</td>\n",
       "      <td>1.000000</td>\n",
       "      <td>1.000000</td>\n",
       "      <td>25.000000</td>\n",
       "      <td>1.000000</td>\n",
       "      <td>0.000000</td>\n",
       "      <td>0.000000</td>\n",
       "      <td>0.000000</td>\n",
       "      <td>0.000000</td>\n",
       "    </tr>\n",
       "    <tr>\n",
       "      <th>25%</th>\n",
       "      <td>2007.000000</td>\n",
       "      <td>24.000000</td>\n",
       "      <td>28368.000000</td>\n",
       "      <td>7125.000000</td>\n",
       "      <td>6900.000000</td>\n",
       "      <td>2015.000000</td>\n",
       "      <td>1.000000</td>\n",
       "      <td>8.000000</td>\n",
       "      <td>1.000000</td>\n",
       "    </tr>\n",
       "    <tr>\n",
       "      <th>50%</th>\n",
       "      <td>2012.000000</td>\n",
       "      <td>35.000000</td>\n",
       "      <td>52169.000000</td>\n",
       "      <td>12300.000000</td>\n",
       "      <td>12100.000000</td>\n",
       "      <td>2015.000000</td>\n",
       "      <td>2.000000</td>\n",
       "      <td>16.000000</td>\n",
       "      <td>1.000000</td>\n",
       "    </tr>\n",
       "    <tr>\n",
       "      <th>75%</th>\n",
       "      <td>2013.000000</td>\n",
       "      <td>42.000000</td>\n",
       "      <td>98996.000000</td>\n",
       "      <td>18300.000000</td>\n",
       "      <td>18200.000000</td>\n",
       "      <td>2015.000000</td>\n",
       "      <td>6.000000</td>\n",
       "      <td>21.000000</td>\n",
       "      <td>2.000000</td>\n",
       "    </tr>\n",
       "    <tr>\n",
       "      <th>max</th>\n",
       "      <td>2015.000000</td>\n",
       "      <td>49.000000</td>\n",
       "      <td>999999.000000</td>\n",
       "      <td>178000.000000</td>\n",
       "      <td>171500.000000</td>\n",
       "      <td>2015.000000</td>\n",
       "      <td>12.000000</td>\n",
       "      <td>31.000000</td>\n",
       "      <td>6.000000</td>\n",
       "    </tr>\n",
       "  </tbody>\n",
       "</table>\n",
       "</div>"
      ],
      "text/plain": [
       "                year      condition       odometer            mmr  \\\n",
       "count  279418.000000  273555.000000  279374.000000  279402.000000   \n",
       "mean     2010.040119      30.695831   68286.467896   13765.626946   \n",
       "std         3.968062      13.378438   53391.876852    9653.741729   \n",
       "min      1983.000000       1.000000       1.000000      25.000000   \n",
       "25%      2007.000000      24.000000   28368.000000    7125.000000   \n",
       "50%      2012.000000      35.000000   52169.000000   12300.000000   \n",
       "75%      2013.000000      42.000000   98996.000000   18300.000000   \n",
       "max      2015.000000      49.000000  999999.000000  178000.000000   \n",
       "\n",
       "        sellingprice      sale_year     sale_month       sale_day  \\\n",
       "count  279414.000000  279418.000000  279418.000000  279418.000000   \n",
       "mean    13607.163811    2014.788571       3.796785      14.661131   \n",
       "std      9718.660738      15.249534       3.229932       8.583021   \n",
       "min         1.000000       0.000000       0.000000       0.000000   \n",
       "25%      6900.000000    2015.000000       1.000000       8.000000   \n",
       "50%     12100.000000    2015.000000       2.000000      16.000000   \n",
       "75%     18200.000000    2015.000000       6.000000      21.000000   \n",
       "max    171500.000000    2015.000000      12.000000      31.000000   \n",
       "\n",
       "        sale_weekday  \n",
       "count  279418.000000  \n",
       "mean        1.472704  \n",
       "std         1.240399  \n",
       "min         0.000000  \n",
       "25%         1.000000  \n",
       "50%         1.000000  \n",
       "75%         2.000000  \n",
       "max         6.000000  "
      ]
     },
     "execution_count": 710,
     "metadata": {},
     "output_type": "execute_result"
    }
   ],
   "source": [
    "df[num].describe()"
   ]
  },
  {
   "cell_type": "code",
   "execution_count": 711,
   "id": "9863de66",
   "metadata": {},
   "outputs": [
    {
     "data": {
      "text/html": [
       "<div>\n",
       "<style scoped>\n",
       "    .dataframe tbody tr th:only-of-type {\n",
       "        vertical-align: middle;\n",
       "    }\n",
       "\n",
       "    .dataframe tbody tr th {\n",
       "        vertical-align: top;\n",
       "    }\n",
       "\n",
       "    .dataframe thead th {\n",
       "        text-align: right;\n",
       "    }\n",
       "</style>\n",
       "<table border=\"1\" class=\"dataframe\">\n",
       "  <thead>\n",
       "    <tr style=\"text-align: right;\">\n",
       "      <th></th>\n",
       "      <th>make</th>\n",
       "      <th>model</th>\n",
       "      <th>trim</th>\n",
       "      <th>body</th>\n",
       "      <th>transmission</th>\n",
       "      <th>state</th>\n",
       "      <th>color</th>\n",
       "      <th>interior</th>\n",
       "      <th>seller</th>\n",
       "    </tr>\n",
       "  </thead>\n",
       "  <tbody>\n",
       "    <tr>\n",
       "      <th>count</th>\n",
       "      <td>274249</td>\n",
       "      <td>274205</td>\n",
       "      <td>274082</td>\n",
       "      <td>272818</td>\n",
       "      <td>246598</td>\n",
       "      <td>279406</td>\n",
       "      <td>266808</td>\n",
       "      <td>270433</td>\n",
       "      <td>279418</td>\n",
       "    </tr>\n",
       "    <tr>\n",
       "      <th>unique</th>\n",
       "      <td>54</td>\n",
       "      <td>919</td>\n",
       "      <td>1788</td>\n",
       "      <td>44</td>\n",
       "      <td>2</td>\n",
       "      <td>38</td>\n",
       "      <td>19</td>\n",
       "      <td>16</td>\n",
       "      <td>11084</td>\n",
       "    </tr>\n",
       "    <tr>\n",
       "      <th>top</th>\n",
       "      <td>Ford</td>\n",
       "      <td>Altima</td>\n",
       "      <td>Base</td>\n",
       "      <td>Sedan</td>\n",
       "      <td>automatic</td>\n",
       "      <td>fl</td>\n",
       "      <td>black</td>\n",
       "      <td>black</td>\n",
       "      <td>nissan-infiniti lt</td>\n",
       "    </tr>\n",
       "    <tr>\n",
       "      <th>freq</th>\n",
       "      <td>46850</td>\n",
       "      <td>9701</td>\n",
       "      <td>27953</td>\n",
       "      <td>120710</td>\n",
       "      <td>237831</td>\n",
       "      <td>41562</td>\n",
       "      <td>55632</td>\n",
       "      <td>122375</td>\n",
       "      <td>9834</td>\n",
       "    </tr>\n",
       "  </tbody>\n",
       "</table>\n",
       "</div>"
      ],
      "text/plain": [
       "          make   model    trim    body transmission   state   color interior  \\\n",
       "count   274249  274205  274082  272818       246598  279406  266808   270433   \n",
       "unique      54     919    1788      44            2      38      19       16   \n",
       "top       Ford  Altima    Base   Sedan    automatic      fl   black    black   \n",
       "freq     46850    9701   27953  120710       237831   41562   55632   122375   \n",
       "\n",
       "                    seller  \n",
       "count               279418  \n",
       "unique               11084  \n",
       "top     nissan-infiniti lt  \n",
       "freq                  9834  "
      ]
     },
     "execution_count": 711,
     "metadata": {},
     "output_type": "execute_result"
    }
   ],
   "source": [
    "df[cat].describe()"
   ]
  },
  {
   "cell_type": "code",
   "execution_count": 712,
   "id": "9e373f26",
   "metadata": {},
   "outputs": [
    {
     "data": {
      "image/png": "[encoded data removed]",
      "text/plain": [
       "<Figure size 640x480 with 2 Axes>"
      ]
     },
     "metadata": {},
     "output_type": "display_data"
    }
   ],
   "source": [
    "sns.heatmap(df[num].corr(),annot=True)\n",
    "plt.show()"
   ]
  },
  {
   "cell_type": "code",
   "execution_count": 713,
   "id": "ac6c5cb3",
   "metadata": {},
   "outputs": [
    {
     "data": {
      "image/png": "[encoded data removed]",
      "text/plain": [
       "<Figure size 1500x1000 with 9 Axes>"
      ]
     },
     "metadata": {},
     "output_type": "display_data"
    }
   ],
   "source": [
    "t=1\n",
    "plt.figure(figsize=(15,10))\n",
    "for i in num:\n",
    "    plt.subplot(5,3,t)\n",
    "    sns.kdeplot(data=df[i])\n",
    "    \n",
    "  \n",
    "    t+=1\n",
    "    \n",
    "plt.tight_layout()\n",
    "plt.show()"
   ]
  },
  {
   "cell_type": "code",
   "execution_count": 714,
   "id": "f5bd62d4",
   "metadata": {},
   "outputs": [
    {
     "data": {
      "image/png": "[encoded data removed]",
      "text/plain": [
       "<Figure size 1500x1000 with 9 Axes>"
      ]
     },
     "metadata": {},
     "output_type": "display_data"
    }
   ],
   "source": [
    "t=1\n",
    "plt.figure(figsize=(15,10))\n",
    "for i in num:\n",
    "    plt.subplot(5,3,t)\n",
    "    sns.boxplot(data=df[i])\n",
    "  \n",
    "    t+=1\n",
    "    \n",
    "plt.tight_layout()\n",
    "plt.show()"
   ]
  },
  {
   "cell_type": "code",
   "execution_count": 715,
   "id": "79357547",
   "metadata": {},
   "outputs": [
    {
     "data": {
      "text/plain": [
       "['year',\n",
       " 'condition',\n",
       " 'odometer',\n",
       " 'mmr',\n",
       " 'sellingprice',\n",
       " 'sale_year',\n",
       " 'sale_month',\n",
       " 'sale_day',\n",
       " 'sale_weekday']"
      ]
     },
     "execution_count": 715,
     "metadata": {},
     "output_type": "execute_result"
    }
   ],
   "source": [
    "num"
   ]
  },
  {
   "cell_type": "code",
   "execution_count": 716,
   "id": "2166eb32",
   "metadata": {},
   "outputs": [
    {
     "data": {
      "text/plain": [
       "35.0"
      ]
     },
     "execution_count": 716,
     "metadata": {},
     "output_type": "execute_result"
    }
   ],
   "source": [
    "df['condition'].median()"
   ]
  },
  {
   "cell_type": "code",
   "execution_count": 717,
   "id": "a94bb25e",
   "metadata": {},
   "outputs": [],
   "source": [
    "df[num] = df[num].fillna(df[num].median())"
   ]
  },
  {
   "cell_type": "code",
   "execution_count": 718,
   "id": "cf001356",
   "metadata": {},
   "outputs": [
    {
     "data": {
      "text/plain": [
       "year                0\n",
       "make             5169\n",
       "model            5213\n",
       "trim             5336\n",
       "body             6600\n",
       "transmission    32820\n",
       "state              12\n",
       "condition           0\n",
       "odometer            0\n",
       "color           12610\n",
       "interior         8985\n",
       "seller              0\n",
       "mmr                 0\n",
       "sellingprice        0\n",
       "sale_year           0\n",
       "sale_month          0\n",
       "sale_day            0\n",
       "sale_weekday        0\n",
       "dtype: int64"
      ]
     },
     "execution_count": 718,
     "metadata": {},
     "output_type": "execute_result"
    }
   ],
   "source": [
    "df.isnull().sum()"
   ]
  },
  {
   "cell_type": "code",
   "execution_count": 719,
   "id": "4fa6ae71",
   "metadata": {},
   "outputs": [],
   "source": [
    "df['body'] = df['body'].fillna(df['body'].mode()[0])"
   ]
  },
  {
   "cell_type": "code",
   "execution_count": 720,
   "id": "72adba38",
   "metadata": {},
   "outputs": [],
   "source": [
    "df['make'] = df['make'].fillna(df['make'].mode()[0])"
   ]
  },
  {
   "cell_type": "code",
   "execution_count": 721,
   "id": "d80d567f",
   "metadata": {},
   "outputs": [],
   "source": [
    "df['model'] = df['model'].fillna(df['model'].mode()[0])"
   ]
  },
  {
   "cell_type": "code",
   "execution_count": 722,
   "id": "251eefdd",
   "metadata": {},
   "outputs": [],
   "source": [
    "df['trim'] = df['trim'].fillna(df['trim'].mode()[0])"
   ]
  },
  {
   "cell_type": "code",
   "execution_count": 723,
   "id": "9f78f585",
   "metadata": {},
   "outputs": [],
   "source": [
    "df['transmission'] = df['transmission'].fillna(df['transmission'].mode()[0])"
   ]
  },
  {
   "cell_type": "code",
   "execution_count": 724,
   "id": "0557a386",
   "metadata": {},
   "outputs": [],
   "source": [
    "df['color'] = df['color'].fillna(df['color'].mode()[0])"
   ]
  },
  {
   "cell_type": "code",
   "execution_count": 725,
   "id": "ba6b07e4",
   "metadata": {},
   "outputs": [],
   "source": [
    "df['interior'] = df['interior'].fillna(df['interior'].mode()[0])"
   ]
  },
  {
   "cell_type": "code",
   "execution_count": 726,
   "id": "5db9bb41",
   "metadata": {},
   "outputs": [],
   "source": [
    "df['state'] = df['state'].fillna(df['state'].mode()[0])"
   ]
  },
  {
   "cell_type": "code",
   "execution_count": 727,
   "id": "e228087b",
   "metadata": {},
   "outputs": [
    {
     "data": {
      "text/plain": [
       "year            0\n",
       "make            0\n",
       "model           0\n",
       "trim            0\n",
       "body            0\n",
       "transmission    0\n",
       "state           0\n",
       "condition       0\n",
       "odometer        0\n",
       "color           0\n",
       "interior        0\n",
       "seller          0\n",
       "mmr             0\n",
       "sellingprice    0\n",
       "sale_year       0\n",
       "sale_month      0\n",
       "sale_day        0\n",
       "sale_weekday    0\n",
       "dtype: int64"
      ]
     },
     "execution_count": 727,
     "metadata": {},
     "output_type": "execute_result"
    }
   ],
   "source": [
    "df.isnull().sum()"
   ]
  },
  {
   "cell_type": "code",
   "execution_count": 728,
   "id": "c9defea0",
   "metadata": {},
   "outputs": [],
   "source": [
    "df.dropna(axis=0,inplace=True)"
   ]
  },
  {
   "cell_type": "code",
   "execution_count": 729,
   "id": "21dbfa35",
   "metadata": {},
   "outputs": [
    {
     "data": {
      "text/plain": [
       "year            0\n",
       "make            0\n",
       "model           0\n",
       "trim            0\n",
       "body            0\n",
       "transmission    0\n",
       "state           0\n",
       "condition       0\n",
       "odometer        0\n",
       "color           0\n",
       "interior        0\n",
       "seller          0\n",
       "mmr             0\n",
       "sellingprice    0\n",
       "sale_year       0\n",
       "sale_month      0\n",
       "sale_day        0\n",
       "sale_weekday    0\n",
       "dtype: int64"
      ]
     },
     "execution_count": 729,
     "metadata": {},
     "output_type": "execute_result"
    }
   ],
   "source": [
    "df.isnull().sum()"
   ]
  },
  {
   "cell_type": "code",
   "execution_count": 730,
   "id": "81301d12",
   "metadata": {},
   "outputs": [],
   "source": [
    "from scipy import stats\n",
    "import statsmodels.api as sm\n",
    "from sklearn.model_selection import train_test_split\n",
    "from sklearn.preprocessing import LabelEncoder, StandardScaler\n",
    "from sklearn.linear_model import LinearRegression\n",
    "from sklearn.metrics import mean_squared_error, r2_score"
   ]
  },
  {
   "cell_type": "code",
   "execution_count": 731,
   "id": "e244467a",
   "metadata": {},
   "outputs": [
    {
     "name": "stdout",
     "output_type": "stream",
     "text": [
      "\n",
      "Shapiro-Wilk Test for Selling Price: p = 3.670119883322431e-23\n",
      "Data is NOT Normal\n"
     ]
    }
   ],
   "source": [
    "stat, p = stats.shapiro(df['sellingprice'].dropna().sample(500))  # sample if large\n",
    "print(\"\\nShapiro-Wilk Test for Selling Price: p =\", p)\n",
    "if p > 0.05:\n",
    "    print(\"Data looks Normal\")\n",
    "else:\n",
    "    print(\"Data is NOT Normal\")"
   ]
  },
  {
   "cell_type": "code",
   "execution_count": 732,
   "id": "6cef1a82",
   "metadata": {},
   "outputs": [
    {
     "name": "stdout",
     "output_type": "stream",
     "text": [
      "\n",
      "Pearson Correlation (sellingprice vs odometer): -0.5842313188457595 p = 0.0\n"
     ]
    }
   ],
   "source": [
    "if 'odometer' in df.columns:\n",
    "    corr, p = stats.pearsonr(df['sellingprice'], df['odometer'])\n",
    "    print(\"\\nPearson Correlation (sellingprice vs odometer):\", corr, \"p =\", p)"
   ]
  },
  {
   "cell_type": "code",
   "execution_count": 733,
   "id": "ef3cbab1",
   "metadata": {},
   "outputs": [
    {
     "name": "stdout",
     "output_type": "stream",
     "text": [
      "\n",
      "ANOVA (sellingprice across car makes): F = 1279.6193889746553 p = 0.0\n"
     ]
    }
   ],
   "source": [
    "if 'make' in df.columns:\n",
    "    anova_data = [group['sellingprice'].dropna() for name, group in df.groupby('make')]\n",
    "    f_stat, p_val = stats.f_oneway(*anova_data)\n",
    "    print(\"\\nANOVA (sellingprice across car makes): F =\", f_stat, \"p =\", p_val)\n"
   ]
  },
  {
   "cell_type": "code",
   "execution_count": 734,
   "id": "b0527092",
   "metadata": {},
   "outputs": [
    {
     "name": "stdout",
     "output_type": "stream",
     "text": [
      "\n",
      "Chi-Square Test (make vs transmission): chi2 = 10890.814676596876 p = 0.0\n"
     ]
    }
   ],
   "source": [
    "if 'make' in df.columns and 'transmission' in df.columns:\n",
    "    contingency = pd.crosstab(df['make'], df['transmission'])\n",
    "    chi2, p, dof, exp = stats.chi2_contingency(contingency)\n",
    "    print(\"\\nChi-Square Test (make vs transmission): chi2 =\", chi2, \"p =\", p)"
   ]
  },
  {
   "cell_type": "code",
   "execution_count": 735,
   "id": "9096f35d",
   "metadata": {},
   "outputs": [
    {
     "name": "stdout",
     "output_type": "stream",
     "text": [
      "\n",
      "OLS Regression Summary (Selling Price ~ Odometer):\n",
      "                            OLS Regression Results                            \n",
      "==============================================================================\n",
      "Dep. Variable:           sellingprice   R-squared:                       0.968\n",
      "Model:                            OLS   Adj. R-squared:                  0.968\n",
      "Method:                 Least Squares   F-statistic:                 8.504e+06\n",
      "Date:                Mon, 06 Oct 2025   Prob (F-statistic):               0.00\n",
      "Time:                        02:08:21   Log-Likelihood:            -2.4803e+06\n",
      "No. Observations:              279418   AIC:                         4.961e+06\n",
      "Df Residuals:                  279416   BIC:                         4.961e+06\n",
      "Df Model:                           1                                         \n",
      "Covariance Type:            nonrobust                                         \n",
      "==============================================================================\n",
      "                 coef    std err          t      P>|t|      [0.025      0.975]\n",
      "------------------------------------------------------------------------------\n",
      "const        -29.0431      5.711     -5.085      0.000     -40.237     -17.849\n",
      "mmr            0.9906      0.000   2916.117      0.000       0.990       0.991\n",
      "==============================================================================\n",
      "Omnibus:                   114507.179   Durbin-Watson:                   2.002\n",
      "Prob(Omnibus):                  0.000   Jarque-Bera (JB):         18362339.476\n",
      "Skew:                          -0.900   Prob(JB):                         0.00\n",
      "Kurtosis:                      42.673   Cond. No.                     2.93e+04\n",
      "==============================================================================\n",
      "\n",
      "Notes:\n",
      "[1] Standard Errors assume that the covariance matrix of the errors is correctly specified.\n",
      "[2] The condition number is large, 2.93e+04. This might indicate that there are\n",
      "strong multicollinearity or other numerical problems.\n"
     ]
    }
   ],
   "source": [
    "X = df[['mmr']]  # Example with odometer predicting price\n",
    "y = df['sellingprice']\n",
    "\n",
    "X = sm.add_constant(X)  # add intercept\n",
    "model = sm.OLS(y, X).fit()\n",
    "print(\"\\nOLS Regression Summary (Selling Price ~ Odometer):\")\n",
    "print(model.summary())"
   ]
  },
  {
   "cell_type": "code",
   "execution_count": 736,
   "id": "a2f4a3f4",
   "metadata": {},
   "outputs": [],
   "source": [
    "\n",
    "le = LabelEncoder()\n",
    "for col in cat:\n",
    "    df[col] = le.fit_transform(df[col])"
   ]
  },
  {
   "cell_type": "code",
   "execution_count": 737,
   "id": "3cadfa01",
   "metadata": {},
   "outputs": [],
   "source": [
    "scaler = StandardScaler()\n",
    "num_cols = df.select_dtypes(include=['int64','float64']).columns.drop('sellingprice')\n",
    "df[num_cols] = scaler.fit_transform(df[num_cols])"
   ]
  },
  {
   "cell_type": "code",
   "execution_count": 738,
   "id": "961e3e39-1c66-452b-b1c4-448caaae459f",
   "metadata": {},
   "outputs": [],
   "source": [
    "import joblib\n",
    "from sklearn.preprocessing import LabelEncoder, StandardScaler\n",
    "\n",
    "# Save encoders\n",
    "encoders = {}\n",
    "for col in cat:   # cat = list of categorical columns\n",
    "    le = LabelEncoder()\n",
    "    df[col] = le.fit_transform(df[col])\n",
    "    encoders[col] = le\n",
    "\n",
    "# Save scaler\n",
    "scaler = StandardScaler()\n",
    "num_cols = df.select_dtypes(include=['int64','float64']).columns.drop('sellingprice')\n",
    "df[num_cols] = scaler.fit_transform(df[num_cols])"
   ]
  },
  {
   "cell_type": "code",
   "execution_count": 739,
   "id": "080d74ca",
   "metadata": {},
   "outputs": [],
   "source": [
    "X = df.drop('sellingprice', axis=1)\n",
    "y = df['sellingprice']\n",
    "\n",
    "X_train, X_test, y_train, y_test = train_test_split(X, y, test_size=0.2, random_state=42)"
   ]
  },
  {
   "cell_type": "code",
   "execution_count": 740,
   "id": "6a6fb528",
   "metadata": {},
   "outputs": [],
   "source": [
    "summary = pd.DataFrame(columns=['R-Squre','RMSE','MAPE'])\n",
    "summary.index.name = 'Model Name'"
   ]
  },
  {
   "cell_type": "code",
   "execution_count": 741,
   "id": "07b36ac2",
   "metadata": {},
   "outputs": [],
   "source": [
    "from sklearn.metrics import r2_score,mean_squared_error,mean_absolute_percentage_error"
   ]
  },
  {
   "cell_type": "code",
   "execution_count": 742,
   "id": "33187dae",
   "metadata": {},
   "outputs": [],
   "source": [
    "def metric(model,ytest,ypred):\n",
    "    \n",
    "    r2 = r2_score(ytest,ypred)\n",
    "    rmse = np.sqrt(mean_squared_error(ytest,ypred))\n",
    "    mape = mean_absolute_percentage_error(ytest,ypred)\n",
    "    \n",
    "    \n",
    "    summary.loc[model] = [r2,rmse,mape]\n",
    "    \n",
    "    return summary"
   ]
  },
  {
   "cell_type": "code",
   "execution_count": 743,
   "id": "a2256d82",
   "metadata": {},
   "outputs": [
    {
     "data": {
      "text/html": [
       "<div>\n",
       "<style scoped>\n",
       "    .dataframe tbody tr th:only-of-type {\n",
       "        vertical-align: middle;\n",
       "    }\n",
       "\n",
       "    .dataframe tbody tr th {\n",
       "        vertical-align: top;\n",
       "    }\n",
       "\n",
       "    .dataframe thead th {\n",
       "        text-align: right;\n",
       "    }\n",
       "</style>\n",
       "<table border=\"1\" class=\"dataframe\">\n",
       "  <thead>\n",
       "    <tr style=\"text-align: right;\">\n",
       "      <th></th>\n",
       "      <th>R-Squre</th>\n",
       "      <th>RMSE</th>\n",
       "      <th>MAPE</th>\n",
       "    </tr>\n",
       "    <tr>\n",
       "      <th>Model Name</th>\n",
       "      <th></th>\n",
       "      <th></th>\n",
       "      <th></th>\n",
       "    </tr>\n",
       "  </thead>\n",
       "  <tbody>\n",
       "    <tr>\n",
       "      <th>Linear Regression</th>\n",
       "      <td>0.97037</td>\n",
       "      <td>1664.732486</td>\n",
       "      <td>0.159826</td>\n",
       "    </tr>\n",
       "  </tbody>\n",
       "</table>\n",
       "</div>"
      ],
      "text/plain": [
       "                   R-Squre         RMSE      MAPE\n",
       "Model Name                                       \n",
       "Linear Regression  0.97037  1664.732486  0.159826"
      ]
     },
     "execution_count": 743,
     "metadata": {},
     "output_type": "execute_result"
    }
   ],
   "source": [
    "lm = LinearRegression()\n",
    "model = lm.fit(X_train, y_train)\n",
    "y_pred = model.predict(X_test)\n",
    "\n",
    "metric('Linear Regression',y_test,y_pred)\n"
   ]
  },
  {
   "cell_type": "code",
   "execution_count": 744,
   "id": "96ebf5b4",
   "metadata": {},
   "outputs": [
    {
     "data": {
      "text/html": [
       "<div>\n",
       "<style scoped>\n",
       "    .dataframe tbody tr th:only-of-type {\n",
       "        vertical-align: middle;\n",
       "    }\n",
       "\n",
       "    .dataframe tbody tr th {\n",
       "        vertical-align: top;\n",
       "    }\n",
       "\n",
       "    .dataframe thead th {\n",
       "        text-align: right;\n",
       "    }\n",
       "</style>\n",
       "<table border=\"1\" class=\"dataframe\">\n",
       "  <thead>\n",
       "    <tr style=\"text-align: right;\">\n",
       "      <th></th>\n",
       "      <th>R-Squre</th>\n",
       "      <th>RMSE</th>\n",
       "      <th>MAPE</th>\n",
       "    </tr>\n",
       "    <tr>\n",
       "      <th>Model Name</th>\n",
       "      <th></th>\n",
       "      <th></th>\n",
       "      <th></th>\n",
       "    </tr>\n",
       "  </thead>\n",
       "  <tbody>\n",
       "    <tr>\n",
       "      <th>Linear Regression</th>\n",
       "      <td>0.970370</td>\n",
       "      <td>1664.732486</td>\n",
       "      <td>0.159826</td>\n",
       "    </tr>\n",
       "    <tr>\n",
       "      <th>Decision Tree</th>\n",
       "      <td>0.966514</td>\n",
       "      <td>1769.738392</td>\n",
       "      <td>0.158846</td>\n",
       "    </tr>\n",
       "  </tbody>\n",
       "</table>\n",
       "</div>"
      ],
      "text/plain": [
       "                    R-Squre         RMSE      MAPE\n",
       "Model Name                                        \n",
       "Linear Regression  0.970370  1664.732486  0.159826\n",
       "Decision Tree      0.966514  1769.738392  0.158846"
      ]
     },
     "execution_count": 744,
     "metadata": {},
     "output_type": "execute_result"
    }
   ],
   "source": [
    "from sklearn.tree import DecisionTreeRegressor\n",
    "dt = DecisionTreeRegressor(random_state=42, max_depth = 50, min_samples_split=30)\n",
    "model = dt.fit(X_train, y_train)\n",
    "y_pred = model.predict(X_test)\n",
    "\n",
    "metric('Decision Tree',y_test,y_pred)\n"
   ]
  },
  {
   "cell_type": "code",
   "execution_count": 745,
   "id": "52aeba6b",
   "metadata": {},
   "outputs": [
    {
     "data": {
      "text/html": [
       "<div>\n",
       "<style scoped>\n",
       "    .dataframe tbody tr th:only-of-type {\n",
       "        vertical-align: middle;\n",
       "    }\n",
       "\n",
       "    .dataframe tbody tr th {\n",
       "        vertical-align: top;\n",
       "    }\n",
       "\n",
       "    .dataframe thead th {\n",
       "        text-align: right;\n",
       "    }\n",
       "</style>\n",
       "<table border=\"1\" class=\"dataframe\">\n",
       "  <thead>\n",
       "    <tr style=\"text-align: right;\">\n",
       "      <th></th>\n",
       "      <th>R-Squre</th>\n",
       "      <th>RMSE</th>\n",
       "      <th>MAPE</th>\n",
       "    </tr>\n",
       "    <tr>\n",
       "      <th>Model Name</th>\n",
       "      <th></th>\n",
       "      <th></th>\n",
       "      <th></th>\n",
       "    </tr>\n",
       "  </thead>\n",
       "  <tbody>\n",
       "    <tr>\n",
       "      <th>Linear Regression</th>\n",
       "      <td>0.970370</td>\n",
       "      <td>1664.732486</td>\n",
       "      <td>0.159826</td>\n",
       "    </tr>\n",
       "    <tr>\n",
       "      <th>Decision Tree</th>\n",
       "      <td>0.966514</td>\n",
       "      <td>1769.738392</td>\n",
       "      <td>0.158846</td>\n",
       "    </tr>\n",
       "    <tr>\n",
       "      <th>Random Forest</th>\n",
       "      <td>0.975507</td>\n",
       "      <td>1513.554263</td>\n",
       "      <td>0.137652</td>\n",
       "    </tr>\n",
       "  </tbody>\n",
       "</table>\n",
       "</div>"
      ],
      "text/plain": [
       "                    R-Squre         RMSE      MAPE\n",
       "Model Name                                        \n",
       "Linear Regression  0.970370  1664.732486  0.159826\n",
       "Decision Tree      0.966514  1769.738392  0.158846\n",
       "Random Forest      0.975507  1513.554263  0.137652"
      ]
     },
     "execution_count": 745,
     "metadata": {},
     "output_type": "execute_result"
    }
   ],
   "source": [
    "from sklearn.ensemble import RandomForestRegressor\n",
    "rf = RandomForestRegressor()\n",
    "model = rf.fit(X_train, y_train)\n",
    "y_pred = model.predict(X_test)\n",
    "\n",
    "metric('Random Forest',y_test,y_pred)\n"
   ]
  },
  {
   "cell_type": "code",
   "execution_count": 746,
   "id": "c27fad74",
   "metadata": {},
   "outputs": [
    {
     "data": {
      "text/plain": [
       "\" from sklearn.ensemble import GradientBoostingRegressor\\ngb = GradientBoostingRegressor()\\nmodel = gb.fit(X_train, y_train)\\ny_pred = model.predict(X_test)\\n\\nmetric('Gradient Boosting',y_test,y_pred)\\n\""
      ]
     },
     "execution_count": 746,
     "metadata": {},
     "output_type": "execute_result"
    }
   ],
   "source": [
    "''' from sklearn.ensemble import GradientBoostingRegressor\n",
    "gb = GradientBoostingRegressor()\n",
    "model = gb.fit(X_train, y_train)\n",
    "y_pred = model.predict(X_test)\n",
    "\n",
    "metric('Gradient Boosting',y_test,y_pred)\n",
    "'''"
   ]
  },
  {
   "cell_type": "code",
   "execution_count": 747,
   "id": "231fdd7e",
   "metadata": {},
   "outputs": [
    {
     "data": {
      "text/plain": [
       "\" import xgboost as xg\\nxgb = xg.XGBRegressor(n_estimators=1000, max_depth=6, random_state=42)\\nmodel = xgb.fit(X_train, y_train)\\ny_pred = model.predict(X_test)\\n\\nmetric('XG Boosting',y_test,y_pred)\\n\""
      ]
     },
     "execution_count": 747,
     "metadata": {},
     "output_type": "execute_result"
    }
   ],
   "source": [
    "''' import xgboost as xg\n",
    "xgb = xg.XGBRegressor(n_estimators=1000, max_depth=6, random_state=42)\n",
    "model = xgb.fit(X_train, y_train)\n",
    "y_pred = model.predict(X_test)\n",
    "\n",
    "metric('XG Boosting',y_test,y_pred)\n",
    "'''"
   ]
  },
  {
   "cell_type": "code",
   "execution_count": 748,
   "id": "26cf61e6",
   "metadata": {},
   "outputs": [
    {
     "name": "stdout",
     "output_type": "stream",
     "text": [
      "Fitting 3 folds for each of 8 candidates, totalling 24 fits\n",
      "Best params: {'learning_rate': 0.05, 'max_depth': 8, 'n_estimators': 500}\n",
      "Best CV score: nan\n"
     ]
    }
   ],
   "source": [
    "from sklearn.model_selection import GridSearchCV\n",
    "param_grid = {\n",
    "    \"max_depth\": [8, 10],\n",
    "    \"learning_rate\": [0.05, 0.1],\n",
    "    \"n_estimators\": [500, 1000]\n",
    "}\n",
    "grid = GridSearchCV(xg.XGBRegressor(use_label_encoder=False, eval_metric='logloss', random_state=42),\n",
    "                    param_grid, cv=3, scoring='roc_auc', n_jobs=-1, verbose=1)\n",
    "grid.fit(X_train, y_train)\n",
    "print(\"Best params:\", grid.best_params_)\n",
    "print(\"Best CV score:\", grid.best_score_)"
   ]
  },
  {
   "cell_type": "code",
   "execution_count": 749,
   "id": "b902d595",
   "metadata": {},
   "outputs": [
    {
     "data": {
      "text/html": [
       "<div>\n",
       "<style scoped>\n",
       "    .dataframe tbody tr th:only-of-type {\n",
       "        vertical-align: middle;\n",
       "    }\n",
       "\n",
       "    .dataframe tbody tr th {\n",
       "        vertical-align: top;\n",
       "    }\n",
       "\n",
       "    .dataframe thead th {\n",
       "        text-align: right;\n",
       "    }\n",
       "</style>\n",
       "<table border=\"1\" class=\"dataframe\">\n",
       "  <thead>\n",
       "    <tr style=\"text-align: right;\">\n",
       "      <th></th>\n",
       "      <th>R-Squre</th>\n",
       "      <th>RMSE</th>\n",
       "      <th>MAPE</th>\n",
       "    </tr>\n",
       "    <tr>\n",
       "      <th>Model Name</th>\n",
       "      <th></th>\n",
       "      <th></th>\n",
       "      <th></th>\n",
       "    </tr>\n",
       "  </thead>\n",
       "  <tbody>\n",
       "    <tr>\n",
       "      <th>Linear Regression</th>\n",
       "      <td>0.970370</td>\n",
       "      <td>1664.732486</td>\n",
       "      <td>0.159826</td>\n",
       "    </tr>\n",
       "    <tr>\n",
       "      <th>Decision Tree</th>\n",
       "      <td>0.966514</td>\n",
       "      <td>1769.738392</td>\n",
       "      <td>0.158846</td>\n",
       "    </tr>\n",
       "    <tr>\n",
       "      <th>Random Forest</th>\n",
       "      <td>0.975507</td>\n",
       "      <td>1513.554263</td>\n",
       "      <td>0.137652</td>\n",
       "    </tr>\n",
       "    <tr>\n",
       "      <th>XG Boosting1</th>\n",
       "      <td>0.974081</td>\n",
       "      <td>1557.008799</td>\n",
       "      <td>0.126506</td>\n",
       "    </tr>\n",
       "  </tbody>\n",
       "</table>\n",
       "</div>"
      ],
      "text/plain": [
       "                    R-Squre         RMSE      MAPE\n",
       "Model Name                                        \n",
       "Linear Regression  0.970370  1664.732486  0.159826\n",
       "Decision Tree      0.966514  1769.738392  0.158846\n",
       "Random Forest      0.975507  1513.554263  0.137652\n",
       "XG Boosting1       0.974081  1557.008799  0.126506"
      ]
     },
     "execution_count": 749,
     "metadata": {},
     "output_type": "execute_result"
    }
   ],
   "source": [
    "import xgboost as xg\n",
    "xgb1 = xg.XGBRegressor(n_estimators=500, max_depth=8, random_state=42, learning_rate=0.05)\n",
    "model1 = xgb1.fit(X_train, y_train)\n",
    "y_pred1 = model1.predict(X_test)\n",
    "\n",
    "metric('XG Boosting1',y_test,y_pred1)"
   ]
  },
  {
   "cell_type": "code",
   "execution_count": 750,
   "id": "01de882d",
   "metadata": {},
   "outputs": [
    {
     "data": {
      "text/plain": [
       "\" from sklearn.ensemble import RandomForestRegressor\\nrf1 = RandomForestRegressor(n_estimators=200,min_samples_split=2, random_state=42)\\nmodel2 = rf1.fit(X_train, y_train)\\ny_pred = model2.predict(X_test)\\n\\nmetric('Random Forest1',y_test,y_pred)\\n\""
      ]
     },
     "execution_count": 750,
     "metadata": {},
     "output_type": "execute_result"
    }
   ],
   "source": [
    "''' from sklearn.ensemble import RandomForestRegressor\n",
    "rf1 = RandomForestRegressor(n_estimators=200,min_samples_split=2, random_state=42)\n",
    "model2 = rf1.fit(X_train, y_train)\n",
    "y_pred = model2.predict(X_test)\n",
    "\n",
    "metric('Random Forest1',y_test,y_pred)\n",
    "'''"
   ]
  },
  {
   "cell_type": "code",
   "execution_count": 751,
   "id": "a1593ea4",
   "metadata": {},
   "outputs": [
    {
     "data": {
      "text/plain": [
       "' param_grid = {\\n    \"n_estimators\": [100, 200, 500],\\n    \"max_depth\": [None, 10, 20],\\n    \"min_samples_split\": [2, 5, 10]\\n}\\n\\ngrid = GridSearchCV(\\n    RandomForestRegressor(random_state=42, n_jobs=-1),\\n    param_grid,\\n    cv=3,\\n    scoring=\"r2\",\\n    verbose=1,\\n    n_jobs=-1\\n)\\n\\ngrid.fit(X_train, y_train)\\n\\nprint(\"Best Parameters:\", grid.best_params_)\\nprint(\"Best CV R²:\", grid.best_score_) \\n'"
      ]
     },
     "execution_count": 751,
     "metadata": {},
     "output_type": "execute_result"
    }
   ],
   "source": [
    "''' param_grid = {\n",
    "    \"n_estimators\": [100, 200, 500],\n",
    "    \"max_depth\": [None, 10, 20],\n",
    "    \"min_samples_split\": [2, 5, 10]\n",
    "}\n",
    "\n",
    "grid = GridSearchCV(\n",
    "    RandomForestRegressor(random_state=42, n_jobs=-1),\n",
    "    param_grid,\n",
    "    cv=3,\n",
    "    scoring=\"r2\",\n",
    "    verbose=1,\n",
    "    n_jobs=-1\n",
    ")\n",
    "\n",
    "grid.fit(X_train, y_train)\n",
    "\n",
    "print(\"Best Parameters:\", grid.best_params_)\n",
    "print(\"Best CV R²:\", grid.best_score_) \n",
    "'''"
   ]
  },
  {
   "cell_type": "code",
   "execution_count": null,
   "id": "ab3ff4ef",
   "metadata": {},
   "outputs": [],
   "source": []
  },
  {
   "cell_type": "code",
   "execution_count": 753,
   "id": "d31a349e-5035-419d-937c-5a3de2a4f73e",
   "metadata": {},
   "outputs": [
    {
     "data": {
      "text/plain": [
       "['model.pkl']"
      ]
     },
     "execution_count": 753,
     "metadata": {},
     "output_type": "execute_result"
    }
   ],
   "source": [
    "make_to_models = df.groupby(\"make\")[\"model\"].unique().to_dict()\n",
    "\n",
    "joblib.dump({\n",
    "    \"model\": xgb1,\n",
    "    \"encoders\": encoders,\n",
    "    \"scaler\": scaler,\n",
    "    \"num_cols\": list(num_cols),\n",
    "    \"cat_cols\": list(cat),\n",
    "    \"feature_names\": list(X_train.columns),\n",
    "    \"make_to_models\": make_to_models   # add this\n",
    "}, \"model.pkl\")\n"
   ]
  },
  {
   "cell_type": "code",
   "execution_count": null,
   "id": "a73f4259-04bb-4018-b83a-0e182fbd234e",
   "metadata": {},
   "outputs": [],
   "source": []
  }
 ],
 "metadata": {
  "kernelspec": {
   "display_name": "Python 3 (ipykernel)",
   "language": "python",
   "name": "python3"
  },
  "language_info": {
   "codemirror_mode": {
    "name": "ipython",
    "version": 3
   },
   "file_extension": ".py",
   "mimetype": "text/x-python",
   "name": "python",
   "nbconvert_exporter": "python",
   "pygments_lexer": "ipython3",
   "version": "3.12.7"
  }
 },
 "nbformat": 4,
 "nbformat_minor": 5
}
